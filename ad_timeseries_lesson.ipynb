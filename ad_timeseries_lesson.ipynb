{
 "cells": [
  {
   "cell_type": "markdown",
   "id": "561910cd",
   "metadata": {},
   "source": [
    "# Time Series Anomaly Detection\n",
    "\n",
    "<u>Scenario</u>: Discover anomalies in number of web pages accessed in a day by a user. Is there a bot copying the curriculum?\n",
    "\n",
    "We will accomplish this by breaking down to the following tasks:\n",
    "\n",
    "1. Acquire the data\n",
    "1. Prepare the data\n",
    "1. Make the analysis process work over all users.\n",
    "    1. Compute necessary metrics to arrive at the final metric, %b (percent-b).\n",
    "    1. Add user id to the dataframe that contains all the metrics, including %b.\n",
    "    1. Filter to rows where %b indicates anomaly (i.e. > 1)\n",
    "    1. Append rows of anomalies of new user to previous users' anomalous activity.\n",
    "1. Turn the analysis process and calculations into a function that can be used to loop through for each user.\n",
    "1. Test the function on a single user.\n",
    "1. Analyze by looping over all users.\n",
    "\n",
    "\n",
    "Finally, we will do a quick sample of exploration of the anomalies. There is much more you can do!"
   ]
  },
  {
   "cell_type": "code",
   "execution_count": null,
   "id": "e135ecdb",
   "metadata": {},
   "outputs": [],
   "source": [
    "import pandas as pd\n",
    "import numpy as np\n",
    "\n",
    "import matplotlib.pyplot as plt\n",
    "import seaborn as sns\n",
    "\n",
    "import env"
   ]
  },
  {
   "cell_type": "markdown",
   "id": "104d2ccc",
   "metadata": {},
   "source": [
    "## Acquire\n",
    "\n",
    "After doing some research, some experimentation of performing actions and watching the logs, we discovered what each of the fields represent. We then parse and name the fields accordingly."
   ]
  },
  {
   "cell_type": "code",
   "execution_count": null,
   "id": "c7cb9b05",
   "metadata": {},
   "outputs": [],
   "source": [
    "url = f'mysql+pymysql://{env.user}:{env.password}@{env.host}/curriculum_logs'\n",
    "\n",
    "query = '''\n",
    "SELECT date,\n",
    "       path as endpoint,\n",
    "       user_id,\n",
    "       cohort_id,\n",
    "       ip as source_ip\n",
    "FROM logs;\n",
    "'''"
   ]
  },
  {
   "cell_type": "code",
   "execution_count": null,
   "id": "bdec8665",
   "metadata": {},
   "outputs": [],
   "source": []
  },
  {
   "cell_type": "code",
   "execution_count": null,
   "id": "3e3cc8e7",
   "metadata": {},
   "outputs": [],
   "source": []
  },
  {
   "cell_type": "markdown",
   "id": "81c2829b",
   "metadata": {},
   "source": [
    "## Prepare"
   ]
  },
  {
   "cell_type": "markdown",
   "id": "875f28ff",
   "metadata": {},
   "source": [
    "just like we would for time series analysis! "
   ]
  },
  {
   "cell_type": "code",
   "execution_count": null,
   "id": "aa4986e7",
   "metadata": {},
   "outputs": [],
   "source": []
  },
  {
   "cell_type": "code",
   "execution_count": null,
   "id": "1beb910d",
   "metadata": {},
   "outputs": [],
   "source": []
  },
  {
   "cell_type": "markdown",
   "id": "b7bbe448",
   "metadata": {},
   "source": [
    "No need to split because we are not modeling, we are using statistics to identify low probability cases."
   ]
  },
  {
   "cell_type": "markdown",
   "id": "711a4c1f",
   "metadata": {},
   "source": [
    "### Exponential Moving Average\n",
    "Simple Moving Average (SMA) time series are much less noisy than the time series of the original data points. The challenge with SMA, however, is that the values of SMA lag the original values. This means that changes in the trend are only seen with a delay (lag) of L time units. For datasets that contain rapid trend shifts, a SMA may simply be too slow to be useful. \n",
    "\n",
    "Exponential Moving Average (EMA) helps reduce the lag induced by the use of the SMA. It does this by putting more weight on more recent observations, while the SMA weights all observations equally.\n",
    "\n",
    "EMA function:\n",
    "\n",
    " $EMA_t = \\alpha *  (t_0 - EMA_{t-1}) + EMA_{t-1\n",
    "}$\n",
    "\n",
    "Where:\n",
    "\n",
    "- t<sub>0</sub> = Latest value\n",
    "- t<sub>−1</sub> = Previous value\n",
    "- EMA<sub>*t−1*</sub> = Exponential moving average of previous day\n",
    "- M = Number of time periods, span of the window\n",
    "- $\\alpha$ = multiplier = $2 \\over M+1$\n",
    "\n",
    "Instead of calculating EMA manually, we will use the pandas `ewm()` (Exponential Weighted functions) to compute our EMA. So we just need to define the following:\n",
    "\n",
    "M = `span` argument = number of time periods. We will try 7 days, 14 days, 30 days, and 90 days."
   ]
  },
  {
   "cell_type": "code",
   "execution_count": null,
   "id": "0f745b12",
   "metadata": {},
   "outputs": [],
   "source": [
    "pages = df.endpoint.resample('D').count()\n",
    "pages.head()"
   ]
  },
  {
   "cell_type": "code",
   "execution_count": null,
   "id": "bfe6e937",
   "metadata": {},
   "outputs": [],
   "source": []
  },
  {
   "cell_type": "markdown",
   "id": "6b89cf41",
   "metadata": {},
   "source": [
    "Notice how there are no missing values. `ewm()` will use as many values as are available to compute the mean. \n",
    "\n",
    "So if the span is 7 days, but there is only one day of data available (i.e. the first day), the EMA will equal the first value."
   ]
  },
  {
   "cell_type": "code",
   "execution_count": null,
   "id": "2c4de05f",
   "metadata": {},
   "outputs": [],
   "source": []
  },
  {
   "cell_type": "code",
   "execution_count": null,
   "id": "38ea94f1",
   "metadata": {},
   "outputs": [],
   "source": []
  },
  {
   "cell_type": "code",
   "execution_count": null,
   "id": "bad9399b",
   "metadata": {},
   "outputs": [],
   "source": []
  },
  {
   "cell_type": "markdown",
   "id": "32b9aeae",
   "metadata": {},
   "source": [
    "> Remember! These are *exponential* moving averages, not simple!"
   ]
  },
  {
   "cell_type": "code",
   "execution_count": null,
   "id": "dc6abf43",
   "metadata": {},
   "outputs": [],
   "source": [
    "# fig, ax = plt.subplots(figsize=(16,8))\n",
    "\n",
    "# ax.plot(pages.index, pages, label='Daily', alpha=.5)\n",
    "\n",
    "# ax.plot(pages.index, ema_7d, label = '7-day EMA')\n",
    "# ax.plot(pages.index, ema_14d, label = '14-day EMA')\n",
    "# ax.plot(pages.index, ema_30d, label = '30-day EMA')\n",
    "# ax.plot(pages.index, ema_90d, label = '90-day EMA')\n",
    "\n",
    "# ax.legend(loc='best')\n",
    "# ax.set_ylabel('Number of pages')\n",
    "\n",
    "# plt.show()"
   ]
  },
  {
   "cell_type": "markdown",
   "id": "f377dae9",
   "metadata": {},
   "source": [
    "Let's look at a smaller date range to see how these EMAs react to changes in value:"
   ]
  },
  {
   "cell_type": "code",
   "execution_count": null,
   "id": "3376e82c",
   "metadata": {},
   "outputs": [],
   "source": [
    "# fig, ax = plt.subplots(figsize=(16,8))\n",
    "\n",
    "# ax.plot(pages.index[:100], pages[:100], label='Daily', alpha=.5)\n",
    "# ax.plot(pages.index[:100], ema_7d[:100], label = '7-day EMA')\n",
    "# ax.plot(pages.index[:100], ema_14d[:100], label = '14-day EMA')\n",
    "# ax.plot(pages.index[:100], ema_30d[:100], label = '30-day EMA')\n",
    "# ax.plot(pages.index[:100], ema_90d[:100], label = '90-day EMA')\n",
    "\n",
    "# ax.legend(loc='best')\n",
    "# ax.set_ylabel('Number of pages')\n",
    "\n",
    "# plt.show()"
   ]
  },
  {
   "cell_type": "markdown",
   "id": "8764c10a",
   "metadata": {},
   "source": [
    "## Bollinger Bands\n",
    "\n",
    "- A volatility indicator commonly used in stock market, forex, and cryptocurrency trading.\n",
    "- Made up of 3 lines, the Upper Band (UB), the Lower Band (LB) and the Midband.\n",
    "- Based on the exponential moving average\n",
    "\n",
    "### Midband\n",
    "\n",
    "The Exponential Moving Average\n",
    "\n",
    "`midband = train.ewm(span=30).mean()`\n",
    "\n",
    "### Upper & Lower Band\n",
    "\n",
    "UB/LB = Midband +/- stdev * K\n",
    "\n",
    "K = the number of standard deviations to go up and down from the EMA\n",
    "\n",
    "`stdev = train.ewm(span=30).std()`\n",
    "\n",
    "### Bandwidth\n",
    "\n",
    "The width of the bands\n",
    "\n",
    "Bandwidth = (UB-LB) / midband * 100\n",
    "\n",
    "### %b, Percent Bandwidth\n",
    "\n",
    "Shows where the last value sits in relation to the bands.\n",
    "\n",
    "%b = last−LB / UB-LB\n",
    "\n",
    "- If %b > 1, data point lies above the upper band\n",
    "- If %b < 0, data point lies below the lower band\n",
    "- If %b == .5, data point lies on the midband."
   ]
  },
  {
   "cell_type": "code",
   "execution_count": null,
   "id": "e8e273cb",
   "metadata": {},
   "outputs": [],
   "source": [
    "span = 30\n",
    "k = 3"
   ]
  },
  {
   "cell_type": "code",
   "execution_count": null,
   "id": "9730dcea",
   "metadata": {},
   "outputs": [],
   "source": []
  },
  {
   "cell_type": "code",
   "execution_count": null,
   "id": "fbb96a9b",
   "metadata": {},
   "outputs": [],
   "source": []
  },
  {
   "cell_type": "code",
   "execution_count": null,
   "id": "6673adc5",
   "metadata": {},
   "outputs": [],
   "source": []
  },
  {
   "cell_type": "code",
   "execution_count": null,
   "id": "78356d81",
   "metadata": {},
   "outputs": [],
   "source": [
    "# combine all \n"
   ]
  },
  {
   "cell_type": "markdown",
   "id": "3d3c18e6",
   "metadata": {},
   "source": [
    "### Plot the bands"
   ]
  },
  {
   "cell_type": "code",
   "execution_count": null,
   "id": "edc4dfda",
   "metadata": {
    "scrolled": false
   },
   "outputs": [],
   "source": [
    "# fig, ax = plt.subplots(figsize=(12,8))\n",
    "\n",
    "# ax.plot(my_df.index, my_df.pages, label='Number of Pages')\n",
    "\n",
    "# ax.plot(my_df.index, my_df.midband, label = '30-day EMA/midband')\n",
    "# ax.plot(my_df.index, my_df.ub, label = 'Upper Band')\n",
    "# ax.plot(my_df.index, my_df.lb, label = 'Lower Band')\n",
    "\n",
    "# ax.legend(loc='best')\n",
    "# ax.set_ylabel('Number of pages')\n",
    "\n",
    "# plt.show()"
   ]
  },
  {
   "cell_type": "markdown",
   "id": "a794e256",
   "metadata": {},
   "source": [
    "### Compute %b"
   ]
  },
  {
   "cell_type": "markdown",
   "id": "d92c5c73",
   "metadata": {},
   "source": [
    "Each data point will have a %b value that represents its relative position within/around the bollinger bands. It answers the question: Where does this point sit relative to a simple range of expected values? \n",
    "\n",
    "We can add a new column that shows the %b for every record in the dataset (except the first because there are no bollinger bands available for that one record)\n",
    "\n",
    "%b = last−LB / UB-LB"
   ]
  },
  {
   "cell_type": "code",
   "execution_count": null,
   "id": "13008b8c",
   "metadata": {},
   "outputs": [],
   "source": []
  },
  {
   "cell_type": "markdown",
   "id": "ff26310b",
   "metadata": {},
   "source": [
    "Now, where do we see anomalies? We will search for %b values > 1. In this specific example, we don't need to search for values < 0 because a low extreme is not something we are concerned about. "
   ]
  },
  {
   "cell_type": "code",
   "execution_count": null,
   "id": "949333f1",
   "metadata": {},
   "outputs": [],
   "source": []
  },
  {
   "cell_type": "markdown",
   "id": "19501d33",
   "metadata": {},
   "source": [
    "No anomalies found. Remember, the cutoff is based on the arbitrary selection for K earlier. We could always pick a different K.\n",
    "\n",
    "Anyways great! There are no anomalies! Problem solved. \n",
    "\n",
    "...not so fast.\n",
    "\n",
    "During our preparation step we resampled the data to a daily period. The bollinger bands and %b are only looking for individual days where the overall aggregate log activity was extreme. If the number of users is large enough, then an individual who is scraping our data may not be extreme enough to push a single day that far from the EMA. \n",
    "\n",
    "We need to dig deeper. Lets look at our data on a user by user basis:"
   ]
  },
  {
   "cell_type": "code",
   "execution_count": null,
   "id": "53e8acdf",
   "metadata": {},
   "outputs": [],
   "source": [
    "def acquire_logs(user=env.user, password=env.password, host=env.host):\n",
    "    url = f'mysql+pymysql://{env.user}:{env.password}@{env.host}/curriculum_logs'\n",
    "    query = '''\n",
    "    SELECT date,\n",
    "           path as endpoint,\n",
    "           user_id,\n",
    "           cohort_id,\n",
    "           ip as source_ip\n",
    "    FROM logs;\n",
    "    '''\n",
    "    df = pd.read_sql(query, url)\n",
    "    return df"
   ]
  },
  {
   "cell_type": "code",
   "execution_count": null,
   "id": "c68f9afa",
   "metadata": {},
   "outputs": [],
   "source": [
    "def one_user_df_prep(df, user):\n",
    "    df = df[df.user_id == user].copy()\n",
    "    df.date = pd.to_datetime(df.date)\n",
    "    df = df.set_index(df.date)\n",
    "    df = df.sort_index()\n",
    "    pages_one_user = df['endpoint'].resample('d').count()\n",
    "    return pages_one_user"
   ]
  },
  {
   "cell_type": "code",
   "execution_count": null,
   "id": "ee57337d",
   "metadata": {},
   "outputs": [],
   "source": [
    "def compute_pct_b(pages_one_user, span, k, user):\n",
    "    midband = pages_one_user.ewm(span=span).mean()\n",
    "    stdev = pages_one_user.ewm(span=span).std()\n",
    "    ub = midband + stdev*k\n",
    "    lb = midband - stdev*k\n",
    "    \n",
    "    my_df = pd.concat([pages_one_user, midband, ub, lb], axis=1)\n",
    "    my_df.columns = ['pages_one_user', 'midband', 'ub', 'lb']\n",
    "    \n",
    "    my_df['pct_b'] = (my_df['pages_one_user'] - my_df['lb'])/(my_df['ub'] - my_df['lb'])\n",
    "    my_df['user_id'] = user\n",
    "    return my_df"
   ]
  },
  {
   "cell_type": "code",
   "execution_count": null,
   "id": "8fdea8e6",
   "metadata": {},
   "outputs": [],
   "source": [
    "def plot_bands(my_df, user):\n",
    "    fig, ax = plt.subplots(figsize=(12,8))\n",
    "    ax.plot(my_df.index, my_df.pages_one_user, label='Number of Pages, User: '+str(user))\n",
    "    ax.plot(my_df.index, my_df.midband, label = 'EMA/midband')\n",
    "    ax.plot(my_df.index, my_df.ub, label = 'Upper Band')\n",
    "    ax.plot(my_df.index, my_df.lb, label = 'Lower Band')\n",
    "    ax.legend(loc='best')\n",
    "    ax.set_ylabel('Number of Pages')\n",
    "    plt.show()"
   ]
  },
  {
   "cell_type": "code",
   "execution_count": null,
   "id": "983e9699",
   "metadata": {},
   "outputs": [],
   "source": [
    "def find_anomalies(df, user, span, weight, plot=False):\n",
    "    pages_one_user = one_user_df_prep(df, user)\n",
    "    \n",
    "    my_df = compute_pct_b(pages_one_user, span, weight, user)\n",
    "    \n",
    "    if plot:\n",
    "        plot_bands(my_df, user)\n",
    "    \n",
    "    return my_df[my_df.pct_b>1]"
   ]
  },
  {
   "cell_type": "markdown",
   "id": "7761c3bb",
   "metadata": {},
   "source": [
    "# Using our functions:"
   ]
  },
  {
   "cell_type": "code",
   "execution_count": null,
   "id": "91ebc5c2",
   "metadata": {},
   "outputs": [],
   "source": []
  },
  {
   "cell_type": "markdown",
   "id": "7fd78af8",
   "metadata": {},
   "source": [
    "#### Test function on a single user:"
   ]
  },
  {
   "cell_type": "code",
   "execution_count": null,
   "id": "b6a32b5f",
   "metadata": {},
   "outputs": [],
   "source": [
    "user=1\n",
    "span=30\n",
    "k=6"
   ]
  },
  {
   "cell_type": "code",
   "execution_count": null,
   "id": "97cdb327",
   "metadata": {},
   "outputs": [],
   "source": []
  },
  {
   "cell_type": "markdown",
   "id": "2d64f6b6",
   "metadata": {},
   "source": [
    "No daily anomalies for user 1\n",
    "\n",
    "#### Use function in a loop examining all users:"
   ]
  },
  {
   "cell_type": "code",
   "execution_count": null,
   "id": "edaa3bd4",
   "metadata": {},
   "outputs": [],
   "source": [
    "k = 3.5"
   ]
  },
  {
   "cell_type": "markdown",
   "id": "605aa57c",
   "metadata": {},
   "source": [
    "#### Are there users that show up more frequently than others?"
   ]
  },
  {
   "cell_type": "code",
   "execution_count": null,
   "id": "2eeeb94b",
   "metadata": {},
   "outputs": [],
   "source": []
  },
  {
   "cell_type": "markdown",
   "id": "fb592dc3",
   "metadata": {},
   "source": [
    "#### Let's plot user #88:"
   ]
  },
  {
   "cell_type": "code",
   "execution_count": null,
   "id": "1d8e18e2",
   "metadata": {},
   "outputs": [],
   "source": []
  },
  {
   "cell_type": "markdown",
   "id": "45314644",
   "metadata": {},
   "source": [
    "#### Lets sort by the page counts:"
   ]
  },
  {
   "cell_type": "code",
   "execution_count": null,
   "id": "0f0b981c",
   "metadata": {},
   "outputs": [],
   "source": []
  },
  {
   "cell_type": "markdown",
   "id": "c16b4bce",
   "metadata": {},
   "source": [
    "#### Wow! User_id #341 looked at 272 pages in a single day. Lets plot their activity:"
   ]
  },
  {
   "cell_type": "code",
   "execution_count": null,
   "id": "a358cb4b",
   "metadata": {},
   "outputs": [],
   "source": []
  }
 ],
 "metadata": {
  "kernelspec": {
   "display_name": "Python 3 (ipykernel)",
   "language": "python",
   "name": "python3"
  },
  "language_info": {
   "codemirror_mode": {
    "name": "ipython",
    "version": 3
   },
   "file_extension": ".py",
   "mimetype": "text/x-python",
   "name": "python",
   "nbconvert_exporter": "python",
   "pygments_lexer": "ipython3",
   "version": "3.9.12"
  }
 },
 "nbformat": 4,
 "nbformat_minor": 5
}
