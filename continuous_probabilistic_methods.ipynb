{
 "cells": [
  {
   "cell_type": "markdown",
   "id": "483a4cb6",
   "metadata": {},
   "source": [
    "# Anomaly Detection: Continious Variable Probabilistic Methods for Identifying Outliers"
   ]
  },
  {
   "cell_type": "code",
   "execution_count": 3,
   "id": "3cfb3a40",
   "metadata": {},
   "outputs": [],
   "source": [
    "import numpy as np\n",
    "import pandas as pd\n",
    "import seaborn as sns\n",
    "import itertools\n",
    "from pydataset import data\n",
    "\n",
    "import matplotlib.pyplot as plt\n",
    "%matplotlib inline"
   ]
  },
  {
   "cell_type": "markdown",
   "id": "c79a887d",
   "metadata": {},
   "source": [
    "<hr style=\"border:2px solid gray\">"
   ]
  },
  {
   "cell_type": "code",
   "execution_count": 4,
   "id": "0b7d2b6b",
   "metadata": {},
   "outputs": [],
   "source": [
    "url = \"https://gist.githubusercontent.com/ryanorsinger/6218f5731f3df7cb4771ff3879fdeaa3/raw/88cb6bed276e2236c33df011bd753b6c73832c30/quartet.csv\"    "
   ]
  },
  {
   "cell_type": "code",
   "execution_count": 5,
   "id": "14795c60",
   "metadata": {},
   "outputs": [],
   "source": [
    "df = pd.read_csv(url)"
   ]
  },
  {
   "cell_type": "code",
   "execution_count": 6,
   "id": "a2e618cc",
   "metadata": {},
   "outputs": [
    {
     "data": {
      "text/html": [
       "<div>\n",
       "<style scoped>\n",
       "    .dataframe tbody tr th:only-of-type {\n",
       "        vertical-align: middle;\n",
       "    }\n",
       "\n",
       "    .dataframe tbody tr th {\n",
       "        vertical-align: top;\n",
       "    }\n",
       "\n",
       "    .dataframe thead th {\n",
       "        text-align: right;\n",
       "    }\n",
       "</style>\n",
       "<table border=\"1\" class=\"dataframe\">\n",
       "  <thead>\n",
       "    <tr style=\"text-align: right;\">\n",
       "      <th></th>\n",
       "      <th>id</th>\n",
       "      <th>dataset</th>\n",
       "      <th>x</th>\n",
       "      <th>y</th>\n",
       "    </tr>\n",
       "  </thead>\n",
       "  <tbody>\n",
       "    <tr>\n",
       "      <th>24</th>\n",
       "      <td>24</td>\n",
       "      <td>III</td>\n",
       "      <td>13.0</td>\n",
       "      <td>12.74</td>\n",
       "    </tr>\n",
       "    <tr>\n",
       "      <th>2</th>\n",
       "      <td>2</td>\n",
       "      <td>I</td>\n",
       "      <td>13.0</td>\n",
       "      <td>7.58</td>\n",
       "    </tr>\n",
       "    <tr>\n",
       "      <th>37</th>\n",
       "      <td>37</td>\n",
       "      <td>IV</td>\n",
       "      <td>8.0</td>\n",
       "      <td>8.47</td>\n",
       "    </tr>\n",
       "  </tbody>\n",
       "</table>\n",
       "</div>"
      ],
      "text/plain": [
       "    id dataset     x      y\n",
       "24  24     III  13.0  12.74\n",
       "2    2       I  13.0   7.58\n",
       "37  37      IV   8.0   8.47"
      ]
     },
     "execution_count": 6,
     "metadata": {},
     "output_type": "execute_result"
    }
   ],
   "source": [
    "df.sample(3)"
   ]
  },
  {
   "cell_type": "code",
   "execution_count": 7,
   "id": "94e746c7",
   "metadata": {},
   "outputs": [
    {
     "data": {
      "text/html": [
       "<div>\n",
       "<style scoped>\n",
       "    .dataframe tbody tr th:only-of-type {\n",
       "        vertical-align: middle;\n",
       "    }\n",
       "\n",
       "    .dataframe tbody tr th {\n",
       "        vertical-align: top;\n",
       "    }\n",
       "\n",
       "    .dataframe thead tr th {\n",
       "        text-align: left;\n",
       "    }\n",
       "\n",
       "    .dataframe thead tr:last-of-type th {\n",
       "        text-align: right;\n",
       "    }\n",
       "</style>\n",
       "<table border=\"1\" class=\"dataframe\">\n",
       "  <thead>\n",
       "    <tr>\n",
       "      <th></th>\n",
       "      <th colspan=\"8\" halign=\"left\">id</th>\n",
       "      <th colspan=\"5\" halign=\"left\">x</th>\n",
       "      <th colspan=\"8\" halign=\"left\">y</th>\n",
       "    </tr>\n",
       "    <tr>\n",
       "      <th></th>\n",
       "      <th>count</th>\n",
       "      <th>mean</th>\n",
       "      <th>std</th>\n",
       "      <th>min</th>\n",
       "      <th>25%</th>\n",
       "      <th>50%</th>\n",
       "      <th>75%</th>\n",
       "      <th>max</th>\n",
       "      <th>count</th>\n",
       "      <th>mean</th>\n",
       "      <th>...</th>\n",
       "      <th>75%</th>\n",
       "      <th>max</th>\n",
       "      <th>count</th>\n",
       "      <th>mean</th>\n",
       "      <th>std</th>\n",
       "      <th>min</th>\n",
       "      <th>25%</th>\n",
       "      <th>50%</th>\n",
       "      <th>75%</th>\n",
       "      <th>max</th>\n",
       "    </tr>\n",
       "    <tr>\n",
       "      <th>dataset</th>\n",
       "      <th></th>\n",
       "      <th></th>\n",
       "      <th></th>\n",
       "      <th></th>\n",
       "      <th></th>\n",
       "      <th></th>\n",
       "      <th></th>\n",
       "      <th></th>\n",
       "      <th></th>\n",
       "      <th></th>\n",
       "      <th></th>\n",
       "      <th></th>\n",
       "      <th></th>\n",
       "      <th></th>\n",
       "      <th></th>\n",
       "      <th></th>\n",
       "      <th></th>\n",
       "      <th></th>\n",
       "      <th></th>\n",
       "      <th></th>\n",
       "      <th></th>\n",
       "    </tr>\n",
       "  </thead>\n",
       "  <tbody>\n",
       "    <tr>\n",
       "      <th>I</th>\n",
       "      <td>11.0</td>\n",
       "      <td>5.0</td>\n",
       "      <td>3.316625</td>\n",
       "      <td>0.0</td>\n",
       "      <td>2.5</td>\n",
       "      <td>5.0</td>\n",
       "      <td>7.5</td>\n",
       "      <td>10.0</td>\n",
       "      <td>11.0</td>\n",
       "      <td>9.0</td>\n",
       "      <td>...</td>\n",
       "      <td>11.5</td>\n",
       "      <td>14.0</td>\n",
       "      <td>11.0</td>\n",
       "      <td>7.500909</td>\n",
       "      <td>2.031568</td>\n",
       "      <td>4.26</td>\n",
       "      <td>6.315</td>\n",
       "      <td>7.58</td>\n",
       "      <td>8.57</td>\n",
       "      <td>10.84</td>\n",
       "    </tr>\n",
       "    <tr>\n",
       "      <th>II</th>\n",
       "      <td>11.0</td>\n",
       "      <td>16.0</td>\n",
       "      <td>3.316625</td>\n",
       "      <td>11.0</td>\n",
       "      <td>13.5</td>\n",
       "      <td>16.0</td>\n",
       "      <td>18.5</td>\n",
       "      <td>21.0</td>\n",
       "      <td>11.0</td>\n",
       "      <td>9.0</td>\n",
       "      <td>...</td>\n",
       "      <td>11.5</td>\n",
       "      <td>14.0</td>\n",
       "      <td>11.0</td>\n",
       "      <td>7.500909</td>\n",
       "      <td>2.031657</td>\n",
       "      <td>3.10</td>\n",
       "      <td>6.695</td>\n",
       "      <td>8.14</td>\n",
       "      <td>8.95</td>\n",
       "      <td>9.26</td>\n",
       "    </tr>\n",
       "    <tr>\n",
       "      <th>III</th>\n",
       "      <td>11.0</td>\n",
       "      <td>27.0</td>\n",
       "      <td>3.316625</td>\n",
       "      <td>22.0</td>\n",
       "      <td>24.5</td>\n",
       "      <td>27.0</td>\n",
       "      <td>29.5</td>\n",
       "      <td>32.0</td>\n",
       "      <td>11.0</td>\n",
       "      <td>9.0</td>\n",
       "      <td>...</td>\n",
       "      <td>11.5</td>\n",
       "      <td>14.0</td>\n",
       "      <td>11.0</td>\n",
       "      <td>7.500000</td>\n",
       "      <td>2.030424</td>\n",
       "      <td>5.39</td>\n",
       "      <td>6.250</td>\n",
       "      <td>7.11</td>\n",
       "      <td>7.98</td>\n",
       "      <td>12.74</td>\n",
       "    </tr>\n",
       "    <tr>\n",
       "      <th>IV</th>\n",
       "      <td>11.0</td>\n",
       "      <td>38.0</td>\n",
       "      <td>3.316625</td>\n",
       "      <td>33.0</td>\n",
       "      <td>35.5</td>\n",
       "      <td>38.0</td>\n",
       "      <td>40.5</td>\n",
       "      <td>43.0</td>\n",
       "      <td>11.0</td>\n",
       "      <td>9.0</td>\n",
       "      <td>...</td>\n",
       "      <td>8.0</td>\n",
       "      <td>19.0</td>\n",
       "      <td>11.0</td>\n",
       "      <td>7.500909</td>\n",
       "      <td>2.030579</td>\n",
       "      <td>5.25</td>\n",
       "      <td>6.170</td>\n",
       "      <td>7.04</td>\n",
       "      <td>8.19</td>\n",
       "      <td>12.50</td>\n",
       "    </tr>\n",
       "  </tbody>\n",
       "</table>\n",
       "<p>4 rows × 24 columns</p>\n",
       "</div>"
      ],
      "text/plain": [
       "           id                                                   x       ...  \\\n",
       "        count  mean       std   min   25%   50%   75%   max count mean  ...   \n",
       "dataset                                                                 ...   \n",
       "I        11.0   5.0  3.316625   0.0   2.5   5.0   7.5  10.0  11.0  9.0  ...   \n",
       "II       11.0  16.0  3.316625  11.0  13.5  16.0  18.5  21.0  11.0  9.0  ...   \n",
       "III      11.0  27.0  3.316625  22.0  24.5  27.0  29.5  32.0  11.0  9.0  ...   \n",
       "IV       11.0  38.0  3.316625  33.0  35.5  38.0  40.5  43.0  11.0  9.0  ...   \n",
       "\n",
       "                        y                                                      \n",
       "          75%   max count      mean       std   min    25%   50%   75%    max  \n",
       "dataset                                                                        \n",
       "I        11.5  14.0  11.0  7.500909  2.031568  4.26  6.315  7.58  8.57  10.84  \n",
       "II       11.5  14.0  11.0  7.500909  2.031657  3.10  6.695  8.14  8.95   9.26  \n",
       "III      11.5  14.0  11.0  7.500000  2.030424  5.39  6.250  7.11  7.98  12.74  \n",
       "IV        8.0  19.0  11.0  7.500909  2.030579  5.25  6.170  7.04  8.19  12.50  \n",
       "\n",
       "[4 rows x 24 columns]"
      ]
     },
     "execution_count": 7,
     "metadata": {},
     "output_type": "execute_result"
    }
   ],
   "source": [
    "df.groupby('dataset').describe()"
   ]
  },
  {
   "cell_type": "code",
   "execution_count": 8,
   "id": "1b032b3a",
   "metadata": {},
   "outputs": [],
   "source": [
    "mycols = list(itertools.product(['x','y'], ['50%', 'mean', 'max','std']))"
   ]
  },
  {
   "cell_type": "code",
   "execution_count": 9,
   "id": "273d0a4a",
   "metadata": {},
   "outputs": [
    {
     "data": {
      "text/html": [
       "<div>\n",
       "<style scoped>\n",
       "    .dataframe tbody tr th:only-of-type {\n",
       "        vertical-align: middle;\n",
       "    }\n",
       "\n",
       "    .dataframe tbody tr th {\n",
       "        vertical-align: top;\n",
       "    }\n",
       "\n",
       "    .dataframe thead tr th {\n",
       "        text-align: left;\n",
       "    }\n",
       "\n",
       "    .dataframe thead tr:last-of-type th {\n",
       "        text-align: right;\n",
       "    }\n",
       "</style>\n",
       "<table border=\"1\" class=\"dataframe\">\n",
       "  <thead>\n",
       "    <tr>\n",
       "      <th></th>\n",
       "      <th colspan=\"4\" halign=\"left\">x</th>\n",
       "      <th colspan=\"4\" halign=\"left\">y</th>\n",
       "    </tr>\n",
       "    <tr>\n",
       "      <th></th>\n",
       "      <th>50%</th>\n",
       "      <th>mean</th>\n",
       "      <th>max</th>\n",
       "      <th>std</th>\n",
       "      <th>50%</th>\n",
       "      <th>mean</th>\n",
       "      <th>max</th>\n",
       "      <th>std</th>\n",
       "    </tr>\n",
       "    <tr>\n",
       "      <th>dataset</th>\n",
       "      <th></th>\n",
       "      <th></th>\n",
       "      <th></th>\n",
       "      <th></th>\n",
       "      <th></th>\n",
       "      <th></th>\n",
       "      <th></th>\n",
       "      <th></th>\n",
       "    </tr>\n",
       "  </thead>\n",
       "  <tbody>\n",
       "    <tr>\n",
       "      <th>I</th>\n",
       "      <td>9.0</td>\n",
       "      <td>9.0</td>\n",
       "      <td>14.0</td>\n",
       "      <td>3.316625</td>\n",
       "      <td>7.58</td>\n",
       "      <td>7.500909</td>\n",
       "      <td>10.84</td>\n",
       "      <td>2.031568</td>\n",
       "    </tr>\n",
       "    <tr>\n",
       "      <th>II</th>\n",
       "      <td>9.0</td>\n",
       "      <td>9.0</td>\n",
       "      <td>14.0</td>\n",
       "      <td>3.316625</td>\n",
       "      <td>8.14</td>\n",
       "      <td>7.500909</td>\n",
       "      <td>9.26</td>\n",
       "      <td>2.031657</td>\n",
       "    </tr>\n",
       "    <tr>\n",
       "      <th>III</th>\n",
       "      <td>9.0</td>\n",
       "      <td>9.0</td>\n",
       "      <td>14.0</td>\n",
       "      <td>3.316625</td>\n",
       "      <td>7.11</td>\n",
       "      <td>7.500000</td>\n",
       "      <td>12.74</td>\n",
       "      <td>2.030424</td>\n",
       "    </tr>\n",
       "    <tr>\n",
       "      <th>IV</th>\n",
       "      <td>8.0</td>\n",
       "      <td>9.0</td>\n",
       "      <td>19.0</td>\n",
       "      <td>3.316625</td>\n",
       "      <td>7.04</td>\n",
       "      <td>7.500909</td>\n",
       "      <td>12.50</td>\n",
       "      <td>2.030579</td>\n",
       "    </tr>\n",
       "  </tbody>\n",
       "</table>\n",
       "</div>"
      ],
      "text/plain": [
       "           x                          y                           \n",
       "         50% mean   max       std   50%      mean    max       std\n",
       "dataset                                                           \n",
       "I        9.0  9.0  14.0  3.316625  7.58  7.500909  10.84  2.031568\n",
       "II       9.0  9.0  14.0  3.316625  8.14  7.500909   9.26  2.031657\n",
       "III      9.0  9.0  14.0  3.316625  7.11  7.500000  12.74  2.030424\n",
       "IV       8.0  9.0  19.0  3.316625  7.04  7.500909  12.50  2.030579"
      ]
     },
     "execution_count": 9,
     "metadata": {},
     "output_type": "execute_result"
    }
   ],
   "source": [
    "df.groupby(\"dataset\").describe()[mycols]"
   ]
  },
  {
   "cell_type": "code",
   "execution_count": 10,
   "id": "e236c85b",
   "metadata": {},
   "outputs": [
    {
     "data": {
      "text/plain": [
       "<seaborn.axisgrid.FacetGrid at 0x1460b7b20>"
      ]
     },
     "execution_count": 10,
     "metadata": {},
     "output_type": "execute_result"
    },
    {
     "data": {
      "image/png": "[encoded data removed]",
      "text/plain": [
       "<Figure size 1440x360 with 4 Axes>"
      ]
     },
     "metadata": {
      "needs_background": "light"
     },
     "output_type": "display_data"
    }
   ],
   "source": [
    "sns.relplot(x='x', y='y',col='dataset', data=df)"
   ]
  },
  {
   "cell_type": "code",
   "execution_count": null,
   "id": "7ae06e5f",
   "metadata": {},
   "outputs": [],
   "source": []
  },
  {
   "cell_type": "markdown",
   "id": "b1c6b579",
   "metadata": {},
   "source": [
    "<b> Why do we visualize our data?</b>:\n",
    "- Look at distribution and spread:\n",
    "    - boxplots (univariate)\n",
    "    - histograms (univariate): gap in information means there is likely an outlier\n",
    "    - scatter plots\n",
    "* These can show us outliers\n",
    "\n",
    "<br>\n",
    "\n",
    "- Descriptive statistics do not tell the whole story\n",
    "    - all the same stats for each feature (mean, median, max, min, etc)\n",
    "    - but the data is all different\n",
    "    - this is why we must visualize"
   ]
  },
  {
   "cell_type": "markdown",
   "id": "9a00c4e1",
   "metadata": {},
   "source": [
    "<b>Ascombe's Quartet</b>: specific instance that is indicative of the fact that descriptive stats do not tell the enture picture\n",
    "- 4 different datasets in this dataframe\n",
    "- The measures of central tendancy as well as min/max don't identify the shape our any outliers\n",
    "- The linear model for each quartet dataset has almost the exact same slope and intercept\n",
    "- The visualization makes the general trends of the data, as well as the presence of outliers, crystal clear"
   ]
  },
  {
   "cell_type": "markdown",
   "id": "f74414ef",
   "metadata": {},
   "source": [
    "<b> Let's take a look at this again</b>"
   ]
  },
  {
   "cell_type": "code",
   "execution_count": 11,
   "id": "b0777bd2",
   "metadata": {},
   "outputs": [],
   "source": [
    "#call the url we are wanting to use\n",
    "url = \"https://gist.githubusercontent.com/ryanorsinger/6218f5731f3df7cb4771ff3879fdeaa3/raw/88cb6bed276e2236c33df011bd753b6c73832c30/quartet.csv\"\n",
    "\n",
    "#read in that csv using pandas\n",
    "df = pd.read_csv(url)"
   ]
  },
  {
   "cell_type": "code",
   "execution_count": 12,
   "id": "a903a731",
   "metadata": {},
   "outputs": [
    {
     "data": {
      "text/html": [
       "<div>\n",
       "<style scoped>\n",
       "    .dataframe tbody tr th:only-of-type {\n",
       "        vertical-align: middle;\n",
       "    }\n",
       "\n",
       "    .dataframe tbody tr th {\n",
       "        vertical-align: top;\n",
       "    }\n",
       "\n",
       "    .dataframe thead th {\n",
       "        text-align: right;\n",
       "    }\n",
       "</style>\n",
       "<table border=\"1\" class=\"dataframe\">\n",
       "  <thead>\n",
       "    <tr style=\"text-align: right;\">\n",
       "      <th></th>\n",
       "      <th>id</th>\n",
       "      <th>dataset</th>\n",
       "      <th>x</th>\n",
       "      <th>y</th>\n",
       "    </tr>\n",
       "  </thead>\n",
       "  <tbody>\n",
       "    <tr>\n",
       "      <th>9</th>\n",
       "      <td>9</td>\n",
       "      <td>I</td>\n",
       "      <td>7.0</td>\n",
       "      <td>4.82</td>\n",
       "    </tr>\n",
       "    <tr>\n",
       "      <th>20</th>\n",
       "      <td>20</td>\n",
       "      <td>II</td>\n",
       "      <td>7.0</td>\n",
       "      <td>7.26</td>\n",
       "    </tr>\n",
       "    <tr>\n",
       "      <th>12</th>\n",
       "      <td>12</td>\n",
       "      <td>II</td>\n",
       "      <td>8.0</td>\n",
       "      <td>8.14</td>\n",
       "    </tr>\n",
       "  </tbody>\n",
       "</table>\n",
       "</div>"
      ],
      "text/plain": [
       "    id dataset    x     y\n",
       "9    9       I  7.0  4.82\n",
       "20  20      II  7.0  7.26\n",
       "12  12      II  8.0  8.14"
      ]
     },
     "execution_count": 12,
     "metadata": {},
     "output_type": "execute_result"
    }
   ],
   "source": [
    "#take a look at the data\n",
    "df.sample(3)"
   ]
  },
  {
   "cell_type": "code",
   "execution_count": 13,
   "id": "2f63f12d",
   "metadata": {},
   "outputs": [
    {
     "name": "stdout",
     "output_type": "stream",
     "text": [
      "<class 'pandas.core.frame.DataFrame'>\n",
      "RangeIndex: 44 entries, 0 to 43\n",
      "Data columns (total 4 columns):\n",
      " #   Column   Non-Null Count  Dtype  \n",
      "---  ------   --------------  -----  \n",
      " 0   id       44 non-null     int64  \n",
      " 1   dataset  44 non-null     object \n",
      " 2   x        44 non-null     float64\n",
      " 3   y        44 non-null     float64\n",
      "dtypes: float64(2), int64(1), object(1)\n",
      "memory usage: 1.5+ KB\n"
     ]
    }
   ],
   "source": [
    "df.info()"
   ]
  },
  {
   "cell_type": "code",
   "execution_count": 14,
   "id": "4102033b",
   "metadata": {},
   "outputs": [
    {
     "data": {
      "text/html": [
       "<div>\n",
       "<style scoped>\n",
       "    .dataframe tbody tr th:only-of-type {\n",
       "        vertical-align: middle;\n",
       "    }\n",
       "\n",
       "    .dataframe tbody tr th {\n",
       "        vertical-align: top;\n",
       "    }\n",
       "\n",
       "    .dataframe thead th {\n",
       "        text-align: right;\n",
       "    }\n",
       "</style>\n",
       "<table border=\"1\" class=\"dataframe\">\n",
       "  <thead>\n",
       "    <tr style=\"text-align: right;\">\n",
       "      <th></th>\n",
       "      <th>count</th>\n",
       "      <th>mean</th>\n",
       "      <th>std</th>\n",
       "      <th>min</th>\n",
       "      <th>25%</th>\n",
       "      <th>50%</th>\n",
       "      <th>75%</th>\n",
       "      <th>max</th>\n",
       "    </tr>\n",
       "  </thead>\n",
       "  <tbody>\n",
       "    <tr>\n",
       "      <th>id</th>\n",
       "      <td>44.0</td>\n",
       "      <td>21.500000</td>\n",
       "      <td>12.845233</td>\n",
       "      <td>0.0</td>\n",
       "      <td>10.7500</td>\n",
       "      <td>21.50</td>\n",
       "      <td>32.2500</td>\n",
       "      <td>43.00</td>\n",
       "    </tr>\n",
       "    <tr>\n",
       "      <th>x</th>\n",
       "      <td>44.0</td>\n",
       "      <td>9.000000</td>\n",
       "      <td>3.198837</td>\n",
       "      <td>4.0</td>\n",
       "      <td>7.0000</td>\n",
       "      <td>8.00</td>\n",
       "      <td>11.0000</td>\n",
       "      <td>19.00</td>\n",
       "    </tr>\n",
       "    <tr>\n",
       "      <th>y</th>\n",
       "      <td>44.0</td>\n",
       "      <td>7.500682</td>\n",
       "      <td>1.958925</td>\n",
       "      <td>3.1</td>\n",
       "      <td>6.1175</td>\n",
       "      <td>7.52</td>\n",
       "      <td>8.7475</td>\n",
       "      <td>12.74</td>\n",
       "    </tr>\n",
       "  </tbody>\n",
       "</table>\n",
       "</div>"
      ],
      "text/plain": [
       "    count       mean        std  min      25%    50%      75%    max\n",
       "id   44.0  21.500000  12.845233  0.0  10.7500  21.50  32.2500  43.00\n",
       "x    44.0   9.000000   3.198837  4.0   7.0000   8.00  11.0000  19.00\n",
       "y    44.0   7.500682   1.958925  3.1   6.1175   7.52   8.7475  12.74"
      ]
     },
     "execution_count": 14,
     "metadata": {},
     "output_type": "execute_result"
    }
   ],
   "source": [
    "df.describe().T"
   ]
  },
  {
   "cell_type": "markdown",
   "id": "87682fd9",
   "metadata": {},
   "source": [
    "<b>Note:</b>\n",
    "- We can see that there are layers to this dataframe.\n",
    "- Let's consider grouping by dataset (since there are 4 separate datasets)"
   ]
  },
  {
   "cell_type": "code",
   "execution_count": null,
   "id": "32be8358",
   "metadata": {},
   "outputs": [],
   "source": [
    "#get the stats broken into datasets\n",
    "df.groupby(\"dataset\").describe()"
   ]
  },
  {
   "cell_type": "code",
   "execution_count": null,
   "id": "d6950f85",
   "metadata": {},
   "outputs": [],
   "source": [
    "#let's break this down a bit further using itertools\n",
    "#essentially, I want to see the median and mean of x and y only\n",
    "mycols = list(itertools.product(['x','y'], ['50%', 'mean', 'max', 'std']))"
   ]
  },
  {
   "cell_type": "code",
   "execution_count": null,
   "id": "4994cc62",
   "metadata": {},
   "outputs": [],
   "source": [
    "df.groupby(\"dataset\").describe()[mycols]"
   ]
  },
  {
   "cell_type": "markdown",
   "id": "67cc2940",
   "metadata": {},
   "source": [
    "<b>Statistically, it seems like those 4 datasets are the same or very similar. </b>\n",
    "<br>\n",
    "\n",
    "For X:\n",
    "\n",
    "- Mean datasets I, II, III and IV are all the same\n",
    "- Median of datasets I, II, and III are the same\n",
    "- All datasets have the same std\n",
    "- Datasets I, II, and III same max value\n",
    "<br>\n",
    "\n",
    "<b>but</b> there is more to the story if you visualize it!"
   ]
  },
  {
   "cell_type": "code",
   "execution_count": null,
   "id": "fb71ed91",
   "metadata": {},
   "outputs": [],
   "source": [
    "sns.relplot(x='x', y='y', col='dataset', data=df)"
   ]
  },
  {
   "cell_type": "markdown",
   "id": "a9c64b47",
   "metadata": {},
   "source": [
    "<b>Once we visualize, we can see that the datasets are actually very different. Proving that visuals and stats should be used together to tell the entire story."
   ]
  },
  {
   "cell_type": "markdown",
   "id": "17a0546a",
   "metadata": {},
   "source": [
    "<hr style=\"border:1px solid black\">"
   ]
  },
  {
   "cell_type": "markdown",
   "id": "ebacc320",
   "metadata": {},
   "source": [
    "## Empirical Rule \n",
    "\n",
    "<i>aka: Three Sigma Rule and 68-95-99.7 Rule</i>"
   ]
  },
  {
   "cell_type": "markdown",
   "id": "4bc9864e",
   "metadata": {},
   "source": [
    "As is the case with most normal distribution (bell curves) the majority of the data falls in the middle of the curve. There are then tails to the bell curve that contain the remainder of the information. "
   ]
  },
  {
   "cell_type": "markdown",
   "id": "3ba55649",
   "metadata": {},
   "source": [
    "<b>This rule assumes that:</b>\n",
    "\n",
    "   - normal distribution has some qualities to find outliers\n",
    "   - Standard bell curve, to assess normality"
   ]
  },
  {
   "cell_type": "markdown",
   "id": "04030a25",
   "metadata": {},
   "source": [
    "<b>The rule asserts that:</b>\n",
    "\n",
    "   - 68% of the data falls within 1 standard deviation\n",
    "   - 95% of the data falls within 2 standard deviations\n",
    "   - 99.7% of the data falls within 3 standard deviations"
   ]
  },
  {
   "cell_type": "markdown",
   "id": "c68cd2a5",
   "metadata": {},
   "source": [
    "![](empirical_rule.png)"
   ]
  },
  {
   "cell_type": "markdown",
   "id": "02048382",
   "metadata": {},
   "source": [
    "<b>Additionally</b>:\n",
    "\n",
    "   - The rule is often used as a quick test of normality\n",
    "   - Is often erroneously applied to non-normally distributed data\n",
    "   - Can be an oversimplified approach"
   ]
  },
  {
   "cell_type": "markdown",
   "id": "e4712a9d",
   "metadata": {},
   "source": [
    "<b>Common Mistakes Made:</b>\n",
    "\n",
    "   - This rule drops everything outside of 2 standard deviations which highlights the danges of approaching outlier detection in this way."
   ]
  },
  {
   "cell_type": "markdown",
   "id": "2bc4e56d",
   "metadata": {},
   "source": [
    "Just as we would want to use descriptive stats <b>and</b> visualizations together to get the whole picture, we would likely want to use different algorithms to flag outliers. "
   ]
  },
  {
   "cell_type": "markdown",
   "id": "aebc1faf",
   "metadata": {},
   "source": [
    "<hr style=\"border:1px solid black\">"
   ]
  },
  {
   "cell_type": "markdown",
   "id": "ccc0dd88",
   "metadata": {},
   "source": [
    "## Using Z-Score for identifying outliers"
   ]
  },
  {
   "cell_type": "markdown",
   "id": "cd5fd45e",
   "metadata": {},
   "source": [
    "<b>Remember:</b>\n",
    "\n",
    "- ```np.random.normal``` generates numbers from a normal distribution with a specified mean and standard deviation\n",
    "\n",
    "- ```z-score```: a relationship between how far a point is away from the mean in a association with standard deviation as its denominator. It is a way to standardize data and compare a data point to the mean of the sample.\n",
    "    - Z = (value of sample - mean of sample)/ standard deviations of sample\n"
   ]
  },
  {
   "cell_type": "code",
   "execution_count": 15,
   "id": "7e7d0940",
   "metadata": {},
   "outputs": [
    {
     "data": {
      "text/plain": [
       "array([ 1.03336863e+02,  5.95278963e+01,  8.15306294e+01,  6.34434690e+01,\n",
       "        3.58034966e+01,  4.17790777e+01,  9.62743078e+01,  7.78762190e+01,\n",
       "        4.40370705e+01,  5.99826948e+01,  5.01225832e+01,  1.73316794e+01,\n",
       "        4.77326653e+01,  4.23399490e+01,  4.60631952e+01,  3.33368340e+01,\n",
       "        7.78187929e+01,  7.66119412e+01,  8.51157161e+00,  1.06828479e+01,\n",
       "        6.37062993e+01, -1.25704842e+01,  1.00143573e+02,  1.15538648e+02,\n",
       "       -9.38121978e+00, -5.50311155e+00,  7.56165381e+00,  7.97360234e+01,\n",
       "        4.51355247e+01, -7.22190492e+00,  7.48636294e+01,  3.09176224e+01,\n",
       "        9.66890309e+01, -3.56948780e+01,  1.25140633e+02,  8.25048779e+01,\n",
       "        1.59763403e+02,  6.15808681e+01,  5.77538520e+01,  4.59787601e+01,\n",
       "        1.23682340e+01,  1.08094021e+02,  9.15354352e+01,  3.83675377e+01,\n",
       "       -1.84918976e+01,  2.32398197e+01,  1.34796919e+01,  5.36826385e+01,\n",
       "        1.38274743e+00,  1.28843525e+02,  9.09962969e+01,  4.38573398e+01,\n",
       "        7.68009676e+01,  4.00203797e+01,  1.07354959e+02,  5.22361434e+01,\n",
       "        2.59187237e+01,  6.00871120e+01,  2.25636285e+01,  3.04352458e+01,\n",
       "        2.86482283e+01,  4.46449049e+01,  6.03325658e+01,  8.76325682e+01,\n",
       "        1.19908613e+02,  8.13216371e+01,  6.28556868e+01, -1.73855559e+01,\n",
       "        4.26843997e+01,  3.83446680e+01,  7.68658673e+01,  7.47844335e+01,\n",
       "        1.01096822e+02,  5.11219741e+01,  2.59192901e+01, -4.97038425e+01,\n",
       "        1.03651340e+02,  5.41205063e+01,  1.44500806e+02,  2.32728079e+01,\n",
       "        3.20760789e+01,  4.19487368e+01,  7.41450195e+01,  1.06567675e+02,\n",
       "        3.65229147e+01,  3.00822117e+01,  6.46071967e+01,  4.12987748e-01,\n",
       "        2.28817852e+00,  6.88693353e+01,  6.41558880e+01,  2.92978149e+00,\n",
       "        1.03930318e+01,  3.36410566e+01,  8.22883763e+01,  1.12565481e+02,\n",
       "        4.07654455e+01,  7.39023326e+01,  6.18002317e+01,  1.35057300e+02,\n",
       "        1.16950515e+02,  7.30008245e+01,  5.09550622e+01,  4.51179656e+01,\n",
       "        3.46753237e+01,  3.63986040e+01,  6.06417009e+01,  5.05812929e+01,\n",
       "        1.31865000e+01,  6.25324867e+01,  2.47746457e+01,  9.23065054e+01,\n",
       "        2.53629967e+01,  1.96561388e+01,  2.62465033e+01,  7.74190120e+00,\n",
       "        1.24933397e+02,  8.48703041e+01,  8.47435942e+01,  9.28690565e+00,\n",
       "        8.55094723e+01, -1.00520726e+01,  8.75930541e+01,  1.20316670e+02,\n",
       "        4.47349526e+01,  9.18702252e+01,  4.17221121e+01, -1.15185788e+00,\n",
       "        1.05285591e+02,  6.16029104e+01,  4.11565372e+01,  5.72781934e+01,\n",
       "        3.41382280e+01,  4.29846686e+01,  4.99120696e+01,  1.53840440e+02,\n",
       "        6.55913335e+01,  5.65676701e+01,  1.44203033e+00,  7.71373791e+01,\n",
       "        8.21783865e+01,  2.74427550e+01,  8.07697329e+01,  1.25688259e+02,\n",
       "        6.38604083e+00,  8.52409030e+01,  1.21000442e+01,  1.95871254e+01,\n",
       "       -9.72356859e+00,  1.27760856e+02,  9.58161258e+01,  2.54140950e+00,\n",
       "        6.22381894e+01,  6.83804023e+01,  3.51572446e+01,  1.02512715e+02,\n",
       "        8.56261578e+01,  6.90768774e+01,  5.49395409e+01,  5.90193067e+01,\n",
       "        8.20421509e+01,  2.84009646e+01,  8.00134863e+01,  1.05815882e+02,\n",
       "        5.05880445e+01,  1.17405415e+02,  6.49356406e+01,  1.31346629e+01,\n",
       "        6.36372991e+01,  5.99741462e+01,  3.43794431e+01,  3.19676110e+01,\n",
       "        2.89771251e+00,  5.24362335e+00,  7.82410151e+01,  1.18766212e+02,\n",
       "        6.63831971e+01,  1.12914433e+02,  1.19577185e+01,  1.07370321e+02,\n",
       "        2.64856778e+01, -2.96259147e+01,  3.32990200e+01,  2.85045893e+01,\n",
       "        9.29645202e+01,  4.27804413e+01,  7.96993991e+01,  1.42180992e+02,\n",
       "        3.03655288e+01,  1.23637680e+00,  7.74886442e+01,  7.54322287e+01,\n",
       "        7.82114926e+01,  5.82807520e+01,  1.10795436e+02,  2.11440658e+01,\n",
       "        4.37231763e+01,  1.02370122e+01,  2.40327897e-02, -5.83575130e+01,\n",
       "        2.54325884e+01,  9.02206731e+01,  2.28489587e+01,  9.33759267e+01,\n",
       "       -3.23873987e+01,  4.47124063e+01,  5.78386083e+01,  7.92422880e+01,\n",
       "        6.09896980e+00,  5.39627869e+01,  8.54099378e+01,  7.47350107e+01,\n",
       "        3.94645606e+01, -3.49102531e+00,  2.73960364e+01,  6.96157398e+01,\n",
       "        8.42651682e+01,  3.03204699e+01,  1.01806679e+02,  3.59734377e+01,\n",
       "        2.88742863e+01,  1.53271453e+02, -1.56172119e+01,  7.56585234e+01,\n",
       "       -1.77541370e-01,  6.03071084e+01,  4.40734766e+01, -9.10966801e+01,\n",
       "        2.52608070e+01,  4.00834978e+01,  6.00283943e+01,  6.43424945e+01,\n",
       "        6.69315100e+01,  9.03489035e+00,  8.09841337e+01,  3.38992667e+01,\n",
       "        3.17519652e+01,  4.11362943e+01,  1.11682144e+02,  8.62789202e+01,\n",
       "       -1.17280420e+01,  1.96243366e+01,  8.05756004e+01,  7.23675897e+01,\n",
       "       -1.12771785e+01,  4.28597985e+01,  3.72038735e+01,  1.23542341e+02,\n",
       "        3.50136601e+01,  7.89032161e+00,  1.16556018e+02,  1.36157603e+02,\n",
       "        9.37353414e+01,  9.72121452e+01,  1.31959009e+02,  3.69974941e+01,\n",
       "        1.35132847e+02,  2.86986763e+01,  1.13275650e+01,  8.50334970e+00,\n",
       "        1.00986293e+02,  1.13270349e+02,  1.16035739e+02, -1.12312192e+01,\n",
       "        9.78043455e+01,  3.39405473e+01,  7.94978079e+01, -2.59926088e+00,\n",
       "        4.72086899e+01,  1.69625539e+01,  2.35778716e+01,  4.56805373e+01,\n",
       "        7.80409308e+01,  1.77918056e+01,  9.66376542e+01,  1.60233485e+01,\n",
       "        8.61258598e+01,  2.70446779e+01,  4.02719061e+01,  7.31014845e+01,\n",
       "        5.06939990e+01,  6.93812658e+01,  9.07784453e+01,  4.84506519e+01,\n",
       "        2.73225491e+01,  4.77437916e+01,  7.92360617e+01,  5.30237041e+01,\n",
       "        3.39089564e+01,  3.82529022e+01,  1.86127687e+01,  3.76767759e+01,\n",
       "        3.50113677e+01,  2.21634719e+01,  3.98939313e+01,  8.15315407e+01,\n",
       "        4.23074460e+01,  9.99439642e+01,  5.84594979e+01,  4.58741779e+01,\n",
       "        1.94209834e+01,  4.38206059e+01, -2.89418220e+01,  3.83251319e+01,\n",
       "        7.09185507e+01,  1.08325859e+02,  5.07046134e+01,  4.98645100e+01,\n",
       "        3.79543141e+01,  6.67786190e+01,  7.60552102e+01,  9.30240850e+01,\n",
       "        7.21339856e+01,  7.45896943e+01,  3.40863590e+01,  7.51526449e+01,\n",
       "        3.54697592e+01,  6.74020264e+01,  3.64032117e+01,  1.54806717e+01,\n",
       "        7.75142081e+01,  6.83234779e+01,  5.10943395e+01,  3.62397360e+01,\n",
       "       -1.26504233e+01,  1.50787458e+01,  1.64426466e+01,  8.19567532e+01,\n",
       "        3.12871358e+01,  1.02104146e+02,  7.21309652e+01,  9.13950346e+01,\n",
       "        9.50621098e+01,  2.34882528e+00,  8.79783753e+00,  8.42913941e+01,\n",
       "        3.55082886e+01,  7.40642602e+01, -1.34477486e+01,  9.34633978e+01,\n",
       "        5.10204743e+01,  8.48428343e+01,  1.28973530e+01,  2.43911011e+01,\n",
       "        1.15348413e+01,  1.41909245e+01,  6.68804327e+01,  6.73150383e+01,\n",
       "       -2.04236526e+01, -1.45527470e+01,  3.74322044e+01,  3.25244880e+01,\n",
       "       -2.26287790e+01,  1.49227634e+02,  1.02140583e+02,  6.31011078e+01,\n",
       "        4.57335140e+01, -1.25859702e+01,  1.32457140e+01,  6.95958825e+01,\n",
       "        3.98453757e+01,  4.54263534e+01,  8.13223528e+00,  4.92998502e+01,\n",
       "        6.42269303e+01,  5.93178663e+01,  1.08641794e-01, -5.09013273e+01,\n",
       "        3.42878562e+01,  1.30974913e+02,  1.31999964e+02,  3.62564824e+00,\n",
       "        5.89031553e+01, -2.42427714e+00,  4.43176415e+01,  6.18412043e+01,\n",
       "        3.90377229e+01,  6.93448691e+01,  3.97268142e+01,  3.64553377e+01,\n",
       "        4.44947259e+01,  5.19644860e+01,  4.60526617e+01,  6.80051217e+01,\n",
       "        5.66010272e+01,  5.93109056e+01,  1.01987357e+02,  9.86534356e+01,\n",
       "        3.83012790e+01,  8.70037440e+01,  2.66847380e+01,  2.44251464e+01,\n",
       "        9.58308092e+01,  5.74100921e+01,  1.10344914e+02,  9.23610620e+01,\n",
       "        7.39391693e+01,  8.41479182e+01,  1.03680419e+02,  3.24180273e+01,\n",
       "        3.63639934e+00,  9.08504307e+01,  4.16008469e+01,  2.60125555e+01,\n",
       "        6.39221446e+01,  5.14347756e+01,  2.42260227e+01,  8.44054734e+01,\n",
       "        1.13367708e+02,  4.25794651e+01,  7.76317270e+01,  1.85118993e+01,\n",
       "        1.01693040e+02,  1.92613826e+01,  3.67950477e+01,  7.41533322e+01,\n",
       "        6.34976550e+01,  1.33064664e+02,  1.10694159e+02, -1.66642906e+00,\n",
       "        4.64735878e+01,  1.39907425e+01,  1.66460553e+01, -2.39388124e+01,\n",
       "        3.70173650e+01,  1.84620603e+01,  3.72827744e+01,  8.58125052e+01,\n",
       "        1.04720796e+02,  9.77507359e+01,  3.26994728e+01, -1.38951913e+01,\n",
       "        2.69782180e+01,  6.63249745e+01,  1.53650947e+01,  3.47533014e+01,\n",
       "        6.13420339e+01,  7.33874768e+01,  2.28801452e+01,  8.43177503e+01,\n",
       "        6.04358195e+01,  5.74330282e+01,  1.03553993e+02,  5.09938893e+01,\n",
       "        3.70020248e+01,  9.78747044e+01, -1.99010758e+01,  1.12703431e+01,\n",
       "        4.60306422e+01,  1.72926150e+02,  4.44087159e+01,  3.08010457e+01,\n",
       "        3.91469701e+01,  3.81648469e+01,  8.07199634e+01,  5.01986261e+01,\n",
       "        1.34508506e+01,  1.15528130e+02,  3.03022874e+01, -3.04878306e+01,\n",
       "        6.36441019e+01,  6.55583571e+01,  4.08832814e+01,  1.33224800e+02,\n",
       "        2.71700624e+01,  5.19196682e+01,  6.45462392e+01,  1.21243865e+02,\n",
       "        7.72194806e+01,  4.67370270e+01,  2.91965380e+01,  2.74100525e+01,\n",
       "        5.63931626e+01,  8.43092163e+00,  9.98204887e+01,  6.86141368e+01,\n",
       "        9.54477024e+01,  9.31910563e+00, -1.40549305e+01,  1.12681298e+02,\n",
       "        8.35636300e+01, -2.50706080e+00,  8.17657994e+01,  6.03342245e+01,\n",
       "        2.38518394e+01,  3.18383544e+01,  3.88870474e+01,  4.32190377e+01,\n",
       "       -8.23862113e+00,  1.30321905e+02,  3.72603526e+01,  3.56222233e+01,\n",
       "        9.33482302e+01,  5.39211793e+01,  5.60024447e+01,  1.07421222e+02,\n",
       "        8.35760258e+01,  5.66577678e+01, -7.04600955e-01,  4.01765696e+01,\n",
       "        3.72306626e+01,  9.88286497e+00,  8.30545628e+01,  5.56281475e+01,\n",
       "        3.67782861e+01,  2.05632605e+01,  8.46308894e+01, -7.55983134e+00,\n",
       "        5.48018173e+01,  5.39504054e+01,  4.48302939e+01,  9.88217144e+01,\n",
       "        9.53033687e+01,  2.48817808e+01,  1.01557933e+01,  8.84693595e+01,\n",
       "       -3.27332378e+01, -1.40655909e+01,  6.48426176e+01, -2.28642412e+01,\n",
       "        6.18212481e+01,  3.64558346e+01,  7.68341399e+01,  5.02433920e+01,\n",
       "        1.19016406e+02,  4.81310468e+01,  5.65435951e+01,  4.22322139e+01,\n",
       "        1.78245733e+01,  1.80844847e+01,  1.22463533e+01,  3.43965991e+01,\n",
       "        4.65279353e+01,  1.02941594e+01,  6.80173703e+01,  2.63012026e+01,\n",
       "        6.54058522e+01,  1.30594656e+01,  4.99859988e+01,  3.82473093e+01,\n",
       "        6.20795197e+00,  5.92447545e+01, -4.09305107e+01,  3.93427015e+01,\n",
       "        4.70353914e+01,  8.51893375e+01,  5.21098056e+01,  3.89129147e+01,\n",
       "        4.18171978e+01,  5.64552180e+01,  1.30105449e+02,  1.02183049e+02,\n",
       "        8.52135820e+00,  7.05243922e+01,  1.11819455e+01,  3.37600446e+01,\n",
       "        4.59617341e+01, -5.02596796e+00, -2.03909214e+01,  9.43892863e+01,\n",
       "       -3.86646460e+01,  2.08835882e+01,  2.55187914e+01,  3.76019882e+01,\n",
       "        7.36972238e+01,  7.58032522e+01,  7.52660002e+01,  8.03746520e+01,\n",
       "        7.18588647e+01,  7.90556013e+01,  3.78384910e+01,  1.59118751e+02,\n",
       "        2.07320319e+01,  1.11234798e+02,  8.29026695e+01,  8.95809533e+01,\n",
       "        8.04522647e+01,  6.11384952e+01,  2.07735146e+01,  1.78778300e+01,\n",
       "        7.36287357e+01,  9.16037648e+01,  4.20139760e+01,  8.92199899e+00,\n",
       "        6.17622180e+01,  9.01507000e+01,  6.01347961e+01,  9.32168049e+01,\n",
       "        2.71187302e+01,  5.64692720e+01,  4.25221870e+01, -8.01536248e+00,\n",
       "       -2.57296073e+01,  6.81602506e+01,  7.86368981e+01,  2.20799141e+01,\n",
       "        2.67844847e+01,  2.88812179e+01,  3.75003824e+01,  6.92687868e+01,\n",
       "        1.53297509e+02,  6.68407435e+01,  7.06977960e+01,  6.22837656e+01,\n",
       "       -1.56281105e+00,  4.77660289e+01,  1.91651421e+01,  2.29613087e+01,\n",
       "        9.18651294e+01,  2.37884857e+01,  4.60807263e+01,  1.91734441e+01,\n",
       "        8.56087518e+00, -1.22474035e+01, -3.48146435e+01,  1.02263412e+02,\n",
       "       -1.37092942e+01,  1.14158476e+02,  9.39572736e+01,  7.88314769e+01,\n",
       "        1.14429122e+02,  1.22222463e+02,  3.41184614e+01,  6.73296315e+01,\n",
       "       -8.76000755e+00,  9.02086948e+01,  7.41521737e+01,  6.20767603e+01,\n",
       "        4.73777706e+01,  6.47418351e+01,  4.88875466e+01,  4.69102535e+01,\n",
       "        6.00284122e+01,  7.93858185e+01,  4.85671536e+01,  1.09347361e+02,\n",
       "        7.93073072e+01,  9.17884356e+01,  5.41304464e+01,  1.42430445e+02,\n",
       "        2.76316995e+01,  6.40666830e+01,  1.14026086e+01,  1.45060275e+01,\n",
       "        1.32365587e+01,  6.60004772e+01,  3.37313242e+01,  9.17844346e+01,\n",
       "       -7.35358893e+00,  1.06590172e+02, -3.26721234e+01,  5.79025971e+01,\n",
       "        8.12353076e+01,  1.03246358e+02,  3.20765784e+01,  4.21653485e+01,\n",
       "        3.86336355e+01,  2.30985235e+01,  4.70378932e+01, -3.11350688e+01,\n",
       "        1.38282260e+02,  4.09354013e+01,  4.84718981e+01, -1.35916191e+00,\n",
       "        1.64693199e+02,  4.16861796e+01,  1.01067237e+02,  6.66378311e+01,\n",
       "        9.06686600e+01,  1.01041721e+02,  9.36670608e+01,  1.04503171e+02,\n",
       "        8.58654503e+01,  5.09598348e+01,  4.32239926e+01,  1.48155666e+02,\n",
       "        3.31970038e+01,  1.21230552e+01,  5.36862636e+01,  1.54517831e+01,\n",
       "        1.45837470e+02,  3.00739372e+01, -2.20637892e+00,  5.22484014e+01,\n",
       "       -4.38840445e+01,  1.00691879e+02,  5.92038768e+01, -2.15494880e+01,\n",
       "        1.33586094e+02,  3.29120543e+01,  4.43671538e+01,  8.37361650e+01,\n",
       "        1.09442987e+01,  6.27440522e+01,  1.16112964e+01,  3.50064458e+01,\n",
       "        2.14390231e+01,  3.45538800e+01,  4.12190747e+00,  8.17502201e+01,\n",
       "        8.19616992e+01,  1.25266390e+02,  1.56353037e+02,  5.64657993e+01,\n",
       "        3.48101559e+01,  1.11895661e+01,  3.90328405e+01,  3.70376826e+01,\n",
       "        8.88438681e+01,  9.11617182e+01,  3.24229183e+01,  2.75168508e+00,\n",
       "        6.45404943e+01,  5.86984779e+01, -5.31602361e+01,  6.86488320e+01,\n",
       "        3.89118383e+01,  6.78362394e+01,  1.64885365e+01,  4.33528689e+01,\n",
       "        2.85385562e+01, -9.25973219e+00,  5.57011319e+01,  3.47570230e+01,\n",
       "        6.15486267e+01,  5.26544004e+01,  5.82411020e+01,  9.57823637e+00,\n",
       "        8.63214337e+01,  4.82657567e+01,  1.30651580e+02,  4.05903764e+01,\n",
       "        5.70260139e+00,  3.18447598e+01, -4.09826283e+01,  2.77028721e+01,\n",
       "        5.43504517e+01,  3.09093736e+01,  5.27229450e+01,  3.70663149e+01,\n",
       "        5.47321087e+01,  7.20218103e+01,  7.90245285e+00,  1.63575903e-01,\n",
       "        4.77886396e-01,  1.07394207e+02,  9.36250977e+01,  5.78817385e+01,\n",
       "        6.50490166e+01, -8.03655673e+00,  2.56760282e+01,  3.58925823e+01,\n",
       "       -5.63418212e+01,  3.74360805e+01,  4.23049281e+01, -1.95640220e-03,\n",
       "        7.98497054e+01,  8.36209480e+01,  2.61579287e+01,  2.29382767e+01,\n",
       "        4.95343892e+01, -8.18681927e+00,  6.47808088e+01,  2.26834293e+01,\n",
       "        3.25249446e+01,  7.06029275e+01,  7.79938747e+01,  6.62420073e+01,\n",
       "        1.38289318e+02,  7.18255445e-01, -5.43479265e-01,  5.85146011e+01,\n",
       "        7.21638086e+01,  1.17015286e+02,  6.04098144e+01,  9.96742415e+01,\n",
       "       -4.24745195e+01,  1.25883803e+02,  2.77001220e+01,  6.15609806e+01,\n",
       "        3.99483058e+00,  5.98320268e+01, -2.43079560e+01,  8.32928854e+01,\n",
       "        6.17749426e+01,  8.93889218e+01,  2.53401841e+01, -1.76178058e+01,\n",
       "        5.78185074e-01,  2.86229191e+01,  8.84706009e+01,  8.66555462e+01,\n",
       "        3.85015361e+01,  3.97099644e+01,  6.83719268e+01,  3.40850553e+01,\n",
       "        1.34571955e+02,  5.78372911e+01,  1.00170952e+02,  5.40820707e+01,\n",
       "        6.31580572e+01,  6.82710190e+01,  8.77487106e+01,  8.95639715e+01,\n",
       "        7.12126257e+01,  1.15734213e+02,  7.50052607e+01,  1.41465728e+01,\n",
       "        6.57751987e+01,  2.98984924e+01,  1.44950929e+02,  3.66475380e+01,\n",
       "        1.04633766e+02,  5.93547256e+01,  3.57886877e+01,  3.71354980e+01,\n",
       "        1.01667743e+02, -2.02254060e+01,  2.68879342e+01,  5.21560725e+01,\n",
       "       -3.57730745e+00,  1.69981675e+01, -2.09390940e+01,  5.61971723e+01,\n",
       "        8.88419639e+01,  4.31743752e+01,  6.82236286e+01,  4.98128504e+01,\n",
       "        7.32053995e+01,  4.22106474e+01,  5.47872942e+01, -1.98968645e+01,\n",
       "        1.23016012e+01,  8.23944643e+01,  2.95316944e+01,  9.35004865e+01,\n",
       "        4.50041856e+01, -4.17359809e+00,  6.70021209e+01,  4.97688499e+01,\n",
       "        5.72486112e+01,  1.26605094e+01,  1.85225510e+01,  8.76574171e+01,\n",
       "        6.92307731e+01,  1.44456599e+02,  7.47380098e+01,  6.12301444e+01,\n",
       "        1.05389821e+01,  5.82053367e+01, -5.88311270e+01,  6.67638782e+01,\n",
       "        5.75968425e+01,  6.33929201e+01, -2.89085141e+01,  7.87958321e+01,\n",
       "        2.67872004e+01,  5.05680807e+01,  6.60489109e+01,  3.41807386e+01,\n",
       "        3.34218534e-01,  3.11810484e+01,  2.06892135e+01,  8.44323230e+01,\n",
       "        5.10518485e+01,  4.53566417e+01,  4.73829285e+01,  7.84317815e+01,\n",
       "       -9.64658999e+00,  5.18663245e+01,  2.09575726e+01,  6.58190652e+01,\n",
       "        5.03676679e+01,  1.95838396e+01,  4.23426244e+01,  6.62825478e+01,\n",
       "        1.31112653e+01,  7.46393748e+01,  3.50696419e+01,  6.96022567e+01,\n",
       "        2.46897493e+01,  2.77626308e+01,  2.52148172e+01,  8.71066592e+01,\n",
       "        1.91478928e+01,  3.40094685e+01,  3.74347157e+01,  6.36836421e+00,\n",
       "        3.59874346e+01,  4.57432686e+01,  6.16777462e+01,  6.76670704e+01,\n",
       "        8.42894788e+01,  9.01618729e+01,  4.98390326e+01, -2.43223093e+00,\n",
       "       -4.04250914e+01,  1.08999361e+02,  4.13497097e+01,  2.58338824e+01,\n",
       "        3.32561208e+00,  8.74750773e+01,  2.22802252e+01, -3.66358877e+00,\n",
       "       -1.32421331e+00,  9.73897818e+01,  1.10003965e+02,  5.45789039e+01,\n",
       "        7.04605724e+01,  9.71949437e+01,  9.46167018e+00,  2.82572785e+01,\n",
       "        6.88776796e+01,  2.04847122e+01,  4.93376828e+01,  8.93204245e+01,\n",
       "        6.53746194e+01,  8.44369547e+01,  4.80630339e+01,  7.74198642e+01,\n",
       "        3.41301132e+01,  2.55700656e+01,  5.75933784e+01,  5.79703568e+01,\n",
       "        3.59713826e+01, -5.67821375e+01,  1.59060299e+01,  3.46251141e+00,\n",
       "        6.10086936e+01,  2.28871853e+01,  8.25257950e+01,  7.91614986e+01,\n",
       "        7.36532629e+00,  3.32823957e+01,  3.34586410e+01,  6.63965073e+01,\n",
       "        8.47469680e+00,  6.17436058e+01,  1.16152226e+02,  6.63707151e+01,\n",
       "        1.32283678e+02,  6.05599498e+01,  1.18004449e+01,  6.64731276e+01,\n",
       "        8.50551174e+01,  8.70161120e+01,  9.06118987e+01,  4.94731221e+01,\n",
       "        7.27299538e+01,  6.48995417e+01,  7.47542483e+01,  6.86031657e+01,\n",
       "        3.28909247e+01,  6.04964222e+01,  1.01705842e+02, -7.05874655e+00,\n",
       "        8.49004418e+01,  6.88538501e+01,  7.25694144e+01,  4.10558251e+01,\n",
       "        9.01648656e+01,  1.15275049e+01,  2.75607473e+01,  7.10033687e+01,\n",
       "        2.26498786e+01,  2.18371842e+01,  8.38217768e+01,  3.54984308e+01,\n",
       "        6.55936846e+01,  6.56950598e+01,  1.15014923e+02,  7.47585996e+01,\n",
       "        1.95171406e+01,  6.82841861e+01,  1.13151850e+02,  1.89619433e+01,\n",
       "        3.34019796e+01,  6.63838914e+01,  6.01315115e+01,  6.32524936e+01,\n",
       "        8.93889111e+01, -2.23891526e+01,  3.69938357e+00, -3.13815405e+01,\n",
       "        1.32615785e+02,  3.30999601e+01,  1.15281722e+02,  5.98495248e+01,\n",
       "        4.44534721e+01,  8.63247823e+01,  1.06095222e+02,  1.16986995e+02,\n",
       "       -2.34721846e+01,  4.91482600e+01,  4.54346819e+01,  1.64705108e+01,\n",
       "        5.95912115e+01, -2.08664282e+00,  4.49349007e+01,  8.59945665e+01])"
      ]
     },
     "execution_count": 15,
     "metadata": {},
     "output_type": "execute_result"
    }
   ],
   "source": [
    "#create an array of random numbers with normal distribution \n",
    "x = np.random.normal(50, 40, size=1000)\n",
    "x"
   ]
  },
  {
   "cell_type": "code",
   "execution_count": 16,
   "id": "b449b381",
   "metadata": {},
   "outputs": [
    {
     "data": {
      "text/plain": [
       "0      1.310184\n",
       "1      0.205426\n",
       "2      0.760282\n",
       "3      0.304167\n",
       "4     -0.392847\n",
       "         ...   \n",
       "995   -0.880379\n",
       "996    0.207023\n",
       "997   -1.348346\n",
       "998   -0.162575\n",
       "999    0.872852\n",
       "Length: 1000, dtype: float64"
      ]
     },
     "execution_count": 16,
     "metadata": {},
     "output_type": "execute_result"
    }
   ],
   "source": [
    "# Calculate the z-score for each item in the array\n",
    "zscores = pd.Series((x - x.mean()) / x.std())\n",
    "#take a look\n",
    "zscores"
   ]
  },
  {
   "cell_type": "code",
   "execution_count": 17,
   "id": "922e572b",
   "metadata": {},
   "outputs": [
    {
     "data": {
      "text/plain": [
       "array([-35.69487804, 159.76340304, -49.70384254, 144.50080569,\n",
       "       135.05730047, 153.84044028, -29.62591465, 142.18099248,\n",
       "       -58.35751297, -32.38739867, 153.2714529 , -91.09668005,\n",
       "       136.15760312, 131.95900856, 135.13284661, -28.94182199,\n",
       "       149.22763354, -50.90132726, 130.97491271, 131.99996359,\n",
       "       133.06466408, 172.92614985, -30.4878306 , 133.22479952,\n",
       "       -32.7332378 , -40.93051065, -38.66464597, 159.11875084,\n",
       "       153.29750885, -34.81464355, 142.43044538, -32.67212344,\n",
       "       -31.13506878, 138.28225992, 164.69319936, 148.15566636,\n",
       "       145.83746983, -43.88404455, 133.58609408, 156.35303676,\n",
       "       -53.16023607, -40.9826283 , -56.34182117, 138.28931754,\n",
       "       -42.47451951, 134.57195491, 144.95092879, 144.45659865,\n",
       "       -58.83112698, -28.90851412, -40.42509138, -56.7821375 ,\n",
       "       132.28367814, -31.38154048, 132.61578534])"
      ]
     },
     "execution_count": 17,
     "metadata": {},
     "output_type": "execute_result"
    }
   ],
   "source": [
    "# Finds all of the observations with two standard deviations or more.\n",
    "x[zscores.abs() >= 2]"
   ]
  },
  {
   "cell_type": "code",
   "execution_count": 18,
   "id": "90a6f702",
   "metadata": {},
   "outputs": [
    {
     "data": {
      "text/plain": [
       "55"
      ]
     },
     "execution_count": 18,
     "metadata": {},
     "output_type": "execute_result"
    }
   ],
   "source": [
    "#how many observations is this \n",
    "len(x[zscores.abs() >= 2])"
   ]
  },
  {
   "cell_type": "code",
   "execution_count": 19,
   "id": "11b3afd7",
   "metadata": {},
   "outputs": [
    {
     "data": {
      "text/plain": [
       "array([-91.09668005, 172.92614985])"
      ]
     },
     "execution_count": 19,
     "metadata": {},
     "output_type": "execute_result"
    }
   ],
   "source": [
    "# Finds all of the observations with three standard deviations or more\n",
    "x[zscores.abs() >= 3]"
   ]
  },
  {
   "cell_type": "markdown",
   "id": "00ba9b93",
   "metadata": {},
   "source": [
    "<b>Note:</b>\n",
    "\n",
    "- As we can see above we went from 55 observations that were 2 standard deviations of more away to <b>two</b> observation"
   ]
  },
  {
   "cell_type": "markdown",
   "id": "5813927b",
   "metadata": {},
   "source": [
    "<hr style=\"border:1px solid black\">"
   ]
  },
  {
   "cell_type": "markdown",
   "id": "2f77604c",
   "metadata": {},
   "source": [
    "## \"Black Swan\""
   ]
  },
  {
   "cell_type": "markdown",
   "id": "6da8c13f",
   "metadata": {},
   "source": [
    "Where did the name come from?\n",
    "- Europeans originally thought that swans were only white. So as far as they knew, black swans did not exist. That is, until they traveled to colonize Australia... Thus \"black swam\" became the term to define someone super unlikely.\n",
    "\n",
    "This refers to :\n",
    "- very strong anomaly- in the field of novalty\n",
    "- extremely low frequency events that have an exponentially powerful impact\n",
    "- far outside the typical probabilty\n",
    "- very far end of the tail of distribution (bell curve)\n",
    "\n",
    "Black Swan Example:\n",
    "- 1987 stock exchange crash\n",
    "- Dow Jones fell 508 points in a single day\n",
    "- This accounted for 23% of value of Dow Jones\n",
    "- This event was found to be <b><u>25</b></u> standard deviations away from the mean.\n",
    "\n",
    "<i>Just because something is exceptionally improbable, doesn't mean it <b>can't</b> happen. If a black swan event does occur, it has the potential to change all of your data from that point on.\n"
   ]
  },
  {
   "cell_type": "markdown",
   "id": "0ada786a",
   "metadata": {},
   "source": [
    "<hr style=\"border:1px solid black\">"
   ]
  },
  {
   "cell_type": "markdown",
   "id": "67039c53",
   "metadata": {},
   "source": [
    "# Code it out\n",
    "Let's bring back the ```swiss``` dataset!"
   ]
  },
  {
   "cell_type": "code",
   "execution_count": 20,
   "id": "365e97f2",
   "metadata": {},
   "outputs": [],
   "source": [
    "#import from pydataset\n",
    "swiss = data('swiss')"
   ]
  },
  {
   "cell_type": "code",
   "execution_count": 21,
   "id": "f73ced8b",
   "metadata": {},
   "outputs": [
    {
     "name": "stdout",
     "output_type": "stream",
     "text": [
      "<class 'pandas.core.frame.DataFrame'>\n",
      "Index: 47 entries, Courtelary to Rive Gauche\n",
      "Data columns (total 6 columns):\n",
      " #   Column            Non-Null Count  Dtype  \n",
      "---  ------            --------------  -----  \n",
      " 0   Fertility         47 non-null     float64\n",
      " 1   Agriculture       47 non-null     float64\n",
      " 2   Examination       47 non-null     int64  \n",
      " 3   Education         47 non-null     int64  \n",
      " 4   Catholic          47 non-null     float64\n",
      " 5   Infant.Mortality  47 non-null     float64\n",
      "dtypes: float64(4), int64(2)\n",
      "memory usage: 2.6+ KB\n"
     ]
    }
   ],
   "source": [
    "#take a look\n",
    "swiss.info()"
   ]
  },
  {
   "cell_type": "code",
   "execution_count": 22,
   "id": "581a5261",
   "metadata": {},
   "outputs": [
    {
     "data": {
      "text/html": [
       "<div>\n",
       "<style scoped>\n",
       "    .dataframe tbody tr th:only-of-type {\n",
       "        vertical-align: middle;\n",
       "    }\n",
       "\n",
       "    .dataframe tbody tr th {\n",
       "        vertical-align: top;\n",
       "    }\n",
       "\n",
       "    .dataframe thead th {\n",
       "        text-align: right;\n",
       "    }\n",
       "</style>\n",
       "<table border=\"1\" class=\"dataframe\">\n",
       "  <thead>\n",
       "    <tr style=\"text-align: right;\">\n",
       "      <th></th>\n",
       "      <th>Fertility</th>\n",
       "      <th>Agriculture</th>\n",
       "      <th>Examination</th>\n",
       "      <th>Education</th>\n",
       "      <th>Catholic</th>\n",
       "      <th>Infant.Mortality</th>\n",
       "    </tr>\n",
       "  </thead>\n",
       "  <tbody>\n",
       "    <tr>\n",
       "      <th>count</th>\n",
       "      <td>47.000000</td>\n",
       "      <td>47.000000</td>\n",
       "      <td>47.000000</td>\n",
       "      <td>47.000000</td>\n",
       "      <td>47.00000</td>\n",
       "      <td>47.000000</td>\n",
       "    </tr>\n",
       "    <tr>\n",
       "      <th>mean</th>\n",
       "      <td>70.142553</td>\n",
       "      <td>50.659574</td>\n",
       "      <td>16.489362</td>\n",
       "      <td>10.978723</td>\n",
       "      <td>41.14383</td>\n",
       "      <td>19.942553</td>\n",
       "    </tr>\n",
       "    <tr>\n",
       "      <th>std</th>\n",
       "      <td>12.491697</td>\n",
       "      <td>22.711218</td>\n",
       "      <td>7.977883</td>\n",
       "      <td>9.615407</td>\n",
       "      <td>41.70485</td>\n",
       "      <td>2.912697</td>\n",
       "    </tr>\n",
       "    <tr>\n",
       "      <th>min</th>\n",
       "      <td>35.000000</td>\n",
       "      <td>1.200000</td>\n",
       "      <td>3.000000</td>\n",
       "      <td>1.000000</td>\n",
       "      <td>2.15000</td>\n",
       "      <td>10.800000</td>\n",
       "    </tr>\n",
       "    <tr>\n",
       "      <th>25%</th>\n",
       "      <td>64.700000</td>\n",
       "      <td>35.900000</td>\n",
       "      <td>12.000000</td>\n",
       "      <td>6.000000</td>\n",
       "      <td>5.19500</td>\n",
       "      <td>18.150000</td>\n",
       "    </tr>\n",
       "    <tr>\n",
       "      <th>50%</th>\n",
       "      <td>70.400000</td>\n",
       "      <td>54.100000</td>\n",
       "      <td>16.000000</td>\n",
       "      <td>8.000000</td>\n",
       "      <td>15.14000</td>\n",
       "      <td>20.000000</td>\n",
       "    </tr>\n",
       "    <tr>\n",
       "      <th>75%</th>\n",
       "      <td>78.450000</td>\n",
       "      <td>67.650000</td>\n",
       "      <td>22.000000</td>\n",
       "      <td>12.000000</td>\n",
       "      <td>93.12500</td>\n",
       "      <td>21.700000</td>\n",
       "    </tr>\n",
       "    <tr>\n",
       "      <th>max</th>\n",
       "      <td>92.500000</td>\n",
       "      <td>89.700000</td>\n",
       "      <td>37.000000</td>\n",
       "      <td>53.000000</td>\n",
       "      <td>100.00000</td>\n",
       "      <td>26.600000</td>\n",
       "    </tr>\n",
       "  </tbody>\n",
       "</table>\n",
       "</div>"
      ],
      "text/plain": [
       "       Fertility  Agriculture  Examination  Education   Catholic  \\\n",
       "count  47.000000    47.000000    47.000000  47.000000   47.00000   \n",
       "mean   70.142553    50.659574    16.489362  10.978723   41.14383   \n",
       "std    12.491697    22.711218     7.977883   9.615407   41.70485   \n",
       "min    35.000000     1.200000     3.000000   1.000000    2.15000   \n",
       "25%    64.700000    35.900000    12.000000   6.000000    5.19500   \n",
       "50%    70.400000    54.100000    16.000000   8.000000   15.14000   \n",
       "75%    78.450000    67.650000    22.000000  12.000000   93.12500   \n",
       "max    92.500000    89.700000    37.000000  53.000000  100.00000   \n",
       "\n",
       "       Infant.Mortality  \n",
       "count         47.000000  \n",
       "mean          19.942553  \n",
       "std            2.912697  \n",
       "min           10.800000  \n",
       "25%           18.150000  \n",
       "50%           20.000000  \n",
       "75%           21.700000  \n",
       "max           26.600000  "
      ]
     },
     "execution_count": 22,
     "metadata": {},
     "output_type": "execute_result"
    }
   ],
   "source": [
    "#descriptive stats\n",
    "swiss.describe()"
   ]
  },
  {
   "cell_type": "markdown",
   "id": "1381da09",
   "metadata": {},
   "source": [
    "<b>Visualize</b>"
   ]
  },
  {
   "cell_type": "code",
   "execution_count": 23,
   "id": "bc09ab84",
   "metadata": {
    "scrolled": false
   },
   "outputs": [
    {
     "data": {
      "image/png": "[encoded data removed]",
      "text/plain": [
       "<Figure size 432x288 with 1 Axes>"
      ]
     },
     "metadata": {
      "needs_background": "light"
     },
     "output_type": "display_data"
    },
    {
     "data": {
      "image/png": "[encoded data removed]",
      "text/plain": [
       "<Figure size 432x288 with 1 Axes>"
      ]
     },
     "metadata": {
      "needs_background": "light"
     },
     "output_type": "display_data"
    },
    {
     "name": "stdout",
     "output_type": "stream",
     "text": [
      "------------\n"
     ]
    },
    {
     "data": {
      "image/png": "[encoded data removed]",
      "text/plain": [
       "<Figure size 432x288 with 1 Axes>"
      ]
     },
     "metadata": {
      "needs_background": "light"
     },
     "output_type": "display_data"
    },
    {
     "data": {
      "image/png": "[encoded data removed]",
      "text/plain": [
       "<Figure size 432x288 with 1 Axes>"
      ]
     },
     "metadata": {
      "needs_background": "light"
     },
     "output_type": "display_data"
    },
    {
     "name": "stdout",
     "output_type": "stream",
     "text": [
      "------------\n"
     ]
    },
    {
     "data": {
      "image/png": "[encoded data removed]",
      "text/plain": [
       "<Figure size 432x288 with 1 Axes>"
      ]
     },
     "metadata": {
      "needs_background": "light"
     },
     "output_type": "display_data"
    },
    {
     "data": {
      "image/png": "[encoded data removed]",
      "text/plain": [
       "<Figure size 432x288 with 1 Axes>"
      ]
     },
     "metadata": {
      "needs_background": "light"
     },
     "output_type": "display_data"
    },
    {
     "name": "stdout",
     "output_type": "stream",
     "text": [
      "------------\n"
     ]
    },
    {
     "data": {
      "image/png": "[encoded data removed]",
      "text/plain": [
       "<Figure size 432x288 with 1 Axes>"
      ]
     },
     "metadata": {
      "needs_background": "light"
     },
     "output_type": "display_data"
    },
    {
     "data": {
      "image/png": "[encoded data removed]",
      "text/plain": [
       "<Figure size 432x288 with 1 Axes>"
      ]
     },
     "metadata": {
      "needs_background": "light"
     },
     "output_type": "display_data"
    },
    {
     "name": "stdout",
     "output_type": "stream",
     "text": [
      "------------\n"
     ]
    },
    {
     "data": {
      "image/png": "[encoded data removed]",
      "text/plain": [
       "<Figure size 432x288 with 1 Axes>"
      ]
     },
     "metadata": {
      "needs_background": "light"
     },
     "output_type": "display_data"
    },
    {
     "data": {
      "image/png": "[encoded data removed]",
      "text/plain": [
       "<Figure size 432x288 with 1 Axes>"
      ]
     },
     "metadata": {
      "needs_background": "light"
     },
     "output_type": "display_data"
    },
    {
     "name": "stdout",
     "output_type": "stream",
     "text": [
      "------------\n"
     ]
    },
    {
     "data": {
      "image/png": "[encoded data removed]",
      "text/plain": [
       "<Figure size 432x288 with 1 Axes>"
      ]
     },
     "metadata": {
      "needs_background": "light"
     },
     "output_type": "display_data"
    },
    {
     "data": {
      "image/png": "[encoded data removed]",
      "text/plain": [
       "<Figure size 432x288 with 1 Axes>"
      ]
     },
     "metadata": {
      "needs_background": "light"
     },
     "output_type": "display_data"
    },
    {
     "name": "stdout",
     "output_type": "stream",
     "text": [
      "------------\n"
     ]
    }
   ],
   "source": [
    "cols = swiss.columns.to_list()    \n",
    "\n",
    "for col in cols:\n",
    "    plt.hist(swiss[col])\n",
    "    plt.title(col.replace('_',' ').capitalize())\n",
    "    plt.show()\n",
    "    sns.boxplot(data=swiss, x=col)\n",
    "    plt.show()\n",
    "    print('------------')"
   ]
  },
  {
   "cell_type": "markdown",
   "id": "c0ca52fd",
   "metadata": {},
   "source": [
    "<b>Takeaways</b>:\n",
    "- ```Fertility```: There appear to be some outliers here with the break in the histogram and the box plot \n",
    "- ```Agriculture```: no evident outliers\n",
    "- ```Examination```: no evident outliers\n",
    "- ```Education```: appears to have several outliers\n",
    "- ```Catholic```: In the histogram there appears to be an outlier, but the boxplot doesn't show it\n",
    "- ```Infant.Mortality```: there does appear to be an outlier"
   ]
  },
  {
   "cell_type": "markdown",
   "id": "66b13495",
   "metadata": {},
   "source": [
    "<hr style=\"border:1px solid black\">\n",
    "<hr style=\"border:1px solid black\">"
   ]
  },
  {
   "cell_type": "markdown",
   "id": "9cc5eaad",
   "metadata": {},
   "source": [
    "<hr style=\"border:1px solid black\">"
   ]
  },
  {
   "cell_type": "markdown",
   "id": "a312ce66",
   "metadata": {},
   "source": [
    "## IQR"
   ]
  },
  {
   "cell_type": "markdown",
   "id": "b8af36bc",
   "metadata": {},
   "source": [
    "Visualizing:\n",
    "- box and whisker plot will tell you the fences, mean, and outliers (dots)\n",
    "\n",
    "Calculating Fences:\n",
    "- lower fence: Q1 - multiplier * IQR\n",
    "- upper fence: Q3 + multiplier * IQR\n",
    "    \n",
    "Determining Multiplier:\n",
    "- This is how far a point has to be to be considered and outlier\n",
    "- 1.5 is typical inner fence\n",
    "- 3 is for more extreme outliers (outer fence)"
   ]
  },
  {
   "cell_type": "code",
   "execution_count": 24,
   "id": "b7bba9a9",
   "metadata": {},
   "outputs": [
    {
     "data": {
      "text/plain": [
       "12.0"
      ]
     },
     "execution_count": 24,
     "metadata": {},
     "output_type": "execute_result"
    }
   ],
   "source": [
    "#get the 1st quantile of examination column\n",
    "swiss.Examination.quantile(0.25)"
   ]
  },
  {
   "cell_type": "markdown",
   "id": "93cfcf5a",
   "metadata": {},
   "source": [
    "<b>Note</b>:\n",
    "- When the multiplier is set to 1.5, this is an inner fence.\n",
    "- When the multiplier is set to 3, this is an outer fence."
   ]
  },
  {
   "cell_type": "code",
   "execution_count": 25,
   "id": "abf9e452",
   "metadata": {},
   "outputs": [],
   "source": [
    "#start with an inner fence calculation\n",
    "multiplier =1.5\n",
    "\n",
    "#calculate our q1 and q3\n",
    "q1 = swiss.Examination.quantile(0.25)\n",
    "q3 = swiss.Examination.quantile(0.75)\n",
    "iqr = q3-q1"
   ]
  },
  {
   "cell_type": "code",
   "execution_count": 26,
   "id": "da5c6662",
   "metadata": {},
   "outputs": [
    {
     "data": {
      "text/plain": [
       "(12.0, 22.0, 10.0)"
      ]
     },
     "execution_count": 26,
     "metadata": {},
     "output_type": "execute_result"
    }
   ],
   "source": [
    "q1, q3, iqr"
   ]
  },
  {
   "cell_type": "code",
   "execution_count": 29,
   "id": "7214fdd1",
   "metadata": {},
   "outputs": [
    {
     "data": {
      "text/plain": [
       "-3.0"
      ]
     },
     "execution_count": 29,
     "metadata": {},
     "output_type": "execute_result"
    }
   ],
   "source": [
    "q1 - (multiplier * iqr)"
   ]
  },
  {
   "cell_type": "code",
   "execution_count": 30,
   "id": "521095c1",
   "metadata": {},
   "outputs": [
    {
     "data": {
      "text/plain": [
       "37.0"
      ]
     },
     "execution_count": 30,
     "metadata": {},
     "output_type": "execute_result"
    }
   ],
   "source": [
    "q3 + (multiplier * iqr)"
   ]
  },
  {
   "cell_type": "code",
   "execution_count": 31,
   "id": "682e4ecf",
   "metadata": {},
   "outputs": [],
   "source": [
    "#because we are using 1.5 as our multiplier- this will be an inner fence\n",
    "inner_lower_fence = q1 - (multiplier * iqr) \n",
    "inner_upper_fence = q3 + (multiplier * iqr) "
   ]
  },
  {
   "cell_type": "code",
   "execution_count": 32,
   "id": "7d2f9130",
   "metadata": {},
   "outputs": [
    {
     "data": {
      "text/html": [
       "<div>\n",
       "<style scoped>\n",
       "    .dataframe tbody tr th:only-of-type {\n",
       "        vertical-align: middle;\n",
       "    }\n",
       "\n",
       "    .dataframe tbody tr th {\n",
       "        vertical-align: top;\n",
       "    }\n",
       "\n",
       "    .dataframe thead th {\n",
       "        text-align: right;\n",
       "    }\n",
       "</style>\n",
       "<table border=\"1\" class=\"dataframe\">\n",
       "  <thead>\n",
       "    <tr style=\"text-align: right;\">\n",
       "      <th></th>\n",
       "      <th>Fertility</th>\n",
       "      <th>Agriculture</th>\n",
       "      <th>Examination</th>\n",
       "      <th>Education</th>\n",
       "      <th>Catholic</th>\n",
       "      <th>Infant.Mortality</th>\n",
       "    </tr>\n",
       "  </thead>\n",
       "  <tbody>\n",
       "  </tbody>\n",
       "</table>\n",
       "</div>"
      ],
      "text/plain": [
       "Empty DataFrame\n",
       "Columns: [Fertility, Agriculture, Examination, Education, Catholic, Infant.Mortality]\n",
       "Index: []"
      ]
     },
     "execution_count": 32,
     "metadata": {},
     "output_type": "execute_result"
    }
   ],
   "source": [
    "#check out the dataframe where examination is under our fences (lower OR upper)\n",
    "#using pipe for boolean operator \"OR\"\n",
    "swiss[(swiss['Examination'] < inner_lower_fence) | (swiss['Examination'] > inner_upper_fence)]"
   ]
  },
  {
   "cell_type": "code",
   "execution_count": 33,
   "id": "5808249e",
   "metadata": {},
   "outputs": [
    {
     "data": {
      "text/plain": [
       "<AxesSubplot:xlabel='Examination'>"
      ]
     },
     "execution_count": 33,
     "metadata": {},
     "output_type": "execute_result"
    },
    {
     "data": {
      "image/png": "[encoded data removed]",
      "text/plain": [
       "<Figure size 432x288 with 1 Axes>"
      ]
     },
     "metadata": {
      "needs_background": "light"
     },
     "output_type": "display_data"
    }
   ],
   "source": [
    "sns.boxplot(data=swiss, x='Examination')"
   ]
  },
  {
   "cell_type": "markdown",
   "id": "cecb9a42",
   "metadata": {},
   "source": [
    "<b>Takeaways</b>:\n",
    "- The IQR confirms what the boxplot already showed us. Examination has no values outside of its fences. Therefore, it has no outliers."
   ]
  },
  {
   "cell_type": "markdown",
   "id": "c780b12b",
   "metadata": {},
   "source": [
    "<hr style=\"border:1px solid black\">\n",
    "<hr style=\"border:1px solid black\">"
   ]
  },
  {
   "cell_type": "markdown",
   "id": "54ece213",
   "metadata": {},
   "source": [
    "## Using Z-score"
   ]
  },
  {
   "cell_type": "markdown",
   "id": "39c9e934",
   "metadata": {},
   "source": [
    "<b>Exponential Tails of the Normal Distribution"
   ]
  },
  {
   "cell_type": "markdown",
   "id": "b79ab608",
   "metadata": {},
   "source": [
    "![](tails_of_normal_distrib.png)"
   ]
  },
  {
   "cell_type": "markdown",
   "id": "d365d0b7",
   "metadata": {},
   "source": [
    "If an event that is +/- 6 standard deviations from the mean is supposed to occure every 1.4 millions years... the stock crash of 1987 is so highly unlikely that it shouldn't have happened in all of lifetimes combined <b>but</b> it is possible!"
   ]
  },
  {
   "cell_type": "markdown",
   "id": "b035482c",
   "metadata": {},
   "source": [
    "<b>Calculation for Z-Score</b>:\n",
    "z = (x-x_mean)/x_std"
   ]
  },
  {
   "cell_type": "markdown",
   "id": "a4f453c1",
   "metadata": {},
   "source": [
    "###  ```Infant.Mortality```"
   ]
  },
  {
   "cell_type": "code",
   "execution_count": 34,
   "id": "84a657d8",
   "metadata": {},
   "outputs": [],
   "source": [
    "#assign a new column to the zscores for infant mortality\n",
    "swiss['infant_mortality_zscores'] = (swiss['Infant.Mortality'] - swiss['Infant.Mortality'].mean()) / swiss['Infant.Mortality'].std()"
   ]
  },
  {
   "cell_type": "code",
   "execution_count": 35,
   "id": "b2c59a22",
   "metadata": {},
   "outputs": [
    {
     "data": {
      "text/plain": [
       "Courtelary      0.775037\n",
       "Delemont        0.775037\n",
       "Franches-Mnt    0.088388\n",
       "Moutier         0.122720\n",
       "Neuveville      0.225718\n",
       "Porrentruy      2.285664\n",
       "Broye           1.255691\n",
       "Glane           1.702013\n",
       "Gruyere         0.363047\n",
       "Sarine          1.530350\n",
       "Veveyse         1.564683\n",
       "Aigle          -1.181913\n",
       "Aubonne        -0.289269\n",
       "Avenches        0.946699\n",
       "Cossonay       -0.426599\n",
       "Echallens       0.431712\n",
       "Grandson        0.019723\n",
       "Lausanne        0.088388\n",
       "La Vallee      -3.138862\n",
       "Lavaux          0.019723\n",
       "Morges         -0.666926\n",
       "Moudon          0.843702\n",
       "Nyone          -1.113248\n",
       "Orbe           -1.593902\n",
       "Oron            0.363047\n",
       "Payerne         1.324356\n",
       "Paysd'enhaut   -0.666926\n",
       "Rolle          -1.250578\n",
       "Vevey           0.328715\n",
       "Yverdon         0.878034\n",
       "Conthey        -1.662567\n",
       "Entremont      -0.048942\n",
       "Herens         -0.563929\n",
       "Martigwy       -0.186272\n",
       "Monthey         0.088388\n",
       "St Maurice     -0.735591\n",
       "Sierre         -1.250578\n",
       "Sion           -0.632594\n",
       "Boudry          0.122720\n",
       "La Chauxdfnd    0.191385\n",
       "Le Locle       -0.357934\n",
       "Neuchatel       1.049696\n",
       "Val de Ruz      0.019723\n",
       "ValdeTravers   -0.151939\n",
       "V. De Geneve   -0.666926\n",
       "Rive Droite    -0.598261\n",
       "Rive Gauche    -0.220604\n",
       "Name: infant_mortality_zscores, dtype: float64"
      ]
     },
     "execution_count": 35,
     "metadata": {},
     "output_type": "execute_result"
    }
   ],
   "source": [
    "#look at z-scores for all of the datapoints within the dataframe\n",
    "swiss['infant_mortality_zscores']"
   ]
  },
  {
   "cell_type": "code",
   "execution_count": 36,
   "id": "3071f81a",
   "metadata": {},
   "outputs": [
    {
     "data": {
      "text/html": [
       "<div>\n",
       "<style scoped>\n",
       "    .dataframe tbody tr th:only-of-type {\n",
       "        vertical-align: middle;\n",
       "    }\n",
       "\n",
       "    .dataframe tbody tr th {\n",
       "        vertical-align: top;\n",
       "    }\n",
       "\n",
       "    .dataframe thead th {\n",
       "        text-align: right;\n",
       "    }\n",
       "</style>\n",
       "<table border=\"1\" class=\"dataframe\">\n",
       "  <thead>\n",
       "    <tr style=\"text-align: right;\">\n",
       "      <th></th>\n",
       "      <th>Fertility</th>\n",
       "      <th>Agriculture</th>\n",
       "      <th>Examination</th>\n",
       "      <th>Education</th>\n",
       "      <th>Catholic</th>\n",
       "      <th>Infant.Mortality</th>\n",
       "      <th>infant_mortality_zscores</th>\n",
       "    </tr>\n",
       "  </thead>\n",
       "  <tbody>\n",
       "    <tr>\n",
       "      <th>La Vallee</th>\n",
       "      <td>54.3</td>\n",
       "      <td>15.2</td>\n",
       "      <td>31</td>\n",
       "      <td>20</td>\n",
       "      <td>2.15</td>\n",
       "      <td>10.8</td>\n",
       "      <td>-3.138862</td>\n",
       "    </tr>\n",
       "  </tbody>\n",
       "</table>\n",
       "</div>"
      ],
      "text/plain": [
       "           Fertility  Agriculture  Examination  Education  Catholic  \\\n",
       "La Vallee       54.3         15.2           31         20      2.15   \n",
       "\n",
       "           Infant.Mortality  infant_mortality_zscores  \n",
       "La Vallee              10.8                 -3.138862  "
      ]
     },
     "execution_count": 36,
     "metadata": {},
     "output_type": "execute_result"
    }
   ],
   "source": [
    "#Let's look to see if anything falls outside of 3 standard deviations\n",
    "#If it does, this could be an anomaly\n",
    "swiss[swiss['infant_mortality_zscores'].abs() >= 3]"
   ]
  },
  {
   "cell_type": "code",
   "execution_count": 37,
   "id": "0aa31564",
   "metadata": {},
   "outputs": [
    {
     "data": {
      "text/plain": [
       "<AxesSubplot:xlabel='Infant.Mortality'>"
      ]
     },
     "execution_count": 37,
     "metadata": {},
     "output_type": "execute_result"
    },
    {
     "data": {
      "image/png": "[encoded data removed]",
      "text/plain": [
       "<Figure size 432x288 with 1 Axes>"
      ]
     },
     "metadata": {
      "needs_background": "light"
     },
     "output_type": "display_data"
    }
   ],
   "source": [
    "sns.boxplot(data=swiss, x='Infant.Mortality')"
   ]
  },
  {
   "cell_type": "markdown",
   "id": "74ef4ef6",
   "metadata": {},
   "source": [
    "<b>Takeaways</b>:\n",
    "- The z-scores (stats) and boxplot (visuals) together tell us that ```Infant.Mortality``` could have an anomaly.\n",
    "<br>\n",
    "\n",
    "- This should bring us to ask questions...\n",
    "<br>\n",
    "\n",
    "- What is going on in La Vallee?\n",
    "- Why do they have an exceptionally low infant mortality?\n",
    "- Was this data entered incorrectly (human error) or is it actually an anomaly?"
   ]
  },
  {
   "cell_type": "markdown",
   "id": "cff1bf8f",
   "metadata": {},
   "source": [
    "<hr style=\"border:1px solid black\">"
   ]
  },
  {
   "cell_type": "markdown",
   "id": "5bb47cbb",
   "metadata": {},
   "source": [
    "### ```Examination```"
   ]
  },
  {
   "cell_type": "code",
   "execution_count": 38,
   "id": "bb087a25",
   "metadata": {},
   "outputs": [],
   "source": [
    "#assign a new column to the zscores for Examination\n",
    "swiss['examination_zscores'] = (swiss['Examination'] - swiss['Examination'].mean()) / swiss['Examination'].std()"
   ]
  },
  {
   "cell_type": "code",
   "execution_count": 39,
   "id": "843aeb07",
   "metadata": {},
   "outputs": [
    {
     "data": {
      "text/plain": [
       "Courtelary     -0.186686\n",
       "Delemont       -1.314805\n",
       "Franches-Mnt   -1.440152\n",
       "Moutier        -0.562726\n",
       "Neuveville      0.064007\n",
       "Porrentruy     -0.938766\n",
       "Broye          -0.061340\n",
       "Glane          -0.312033\n",
       "Gruyere        -0.562726\n",
       "Sarine         -0.061340\n",
       "Veveyse        -0.312033\n",
       "Aigle           0.565393\n",
       "Aubonne        -0.312033\n",
       "Avenches        0.314700\n",
       "Cossonay        0.690739\n",
       "Echallens       0.189353\n",
       "Grandson        0.064007\n",
       "Lausanne        1.192126\n",
       "La Vallee       1.818858\n",
       "Lavaux          0.314700\n",
       "Morges          0.690739\n",
       "Moudon         -0.312033\n",
       "Nyone           0.690739\n",
       "Orbe            0.440046\n",
       "Oron           -0.562726\n",
       "Payerne        -0.312033\n",
       "Paysd'enhaut   -1.314805\n",
       "Rolle          -0.061340\n",
       "Vevey           1.066779\n",
       "Yverdon        -0.186686\n",
       "Conthey        -1.690845\n",
       "Entremont      -1.189459\n",
       "Herens         -1.440152\n",
       "Martigwy       -0.562726\n",
       "Monthey        -1.189459\n",
       "St Maurice     -0.938766\n",
       "Sierre         -1.690845\n",
       "Sion           -0.437379\n",
       "Boudry          1.192126\n",
       "La Chauxdfnd    1.568165\n",
       "Le Locle        0.690739\n",
       "Neuchatel       2.320244\n",
       "Val de Ruz     -0.186686\n",
       "ValdeTravers    1.066779\n",
       "V. De Geneve    2.570937\n",
       "Rive Droite    -0.061340\n",
       "Rive Gauche     0.690739\n",
       "Name: examination_zscores, dtype: float64"
      ]
     },
     "execution_count": 39,
     "metadata": {},
     "output_type": "execute_result"
    }
   ],
   "source": [
    "swiss['examination_zscores']"
   ]
  },
  {
   "cell_type": "code",
   "execution_count": 41,
   "id": "8fa9aaa5",
   "metadata": {},
   "outputs": [
    {
     "data": {
      "text/html": [
       "<div>\n",
       "<style scoped>\n",
       "    .dataframe tbody tr th:only-of-type {\n",
       "        vertical-align: middle;\n",
       "    }\n",
       "\n",
       "    .dataframe tbody tr th {\n",
       "        vertical-align: top;\n",
       "    }\n",
       "\n",
       "    .dataframe thead th {\n",
       "        text-align: right;\n",
       "    }\n",
       "</style>\n",
       "<table border=\"1\" class=\"dataframe\">\n",
       "  <thead>\n",
       "    <tr style=\"text-align: right;\">\n",
       "      <th></th>\n",
       "      <th>Fertility</th>\n",
       "      <th>Agriculture</th>\n",
       "      <th>Examination</th>\n",
       "      <th>Education</th>\n",
       "      <th>Catholic</th>\n",
       "      <th>Infant.Mortality</th>\n",
       "      <th>infant_mortality_zscores</th>\n",
       "      <th>examination_zscores</th>\n",
       "    </tr>\n",
       "  </thead>\n",
       "  <tbody>\n",
       "    <tr>\n",
       "      <th>Neuchatel</th>\n",
       "      <td>64.4</td>\n",
       "      <td>17.6</td>\n",
       "      <td>35</td>\n",
       "      <td>32</td>\n",
       "      <td>16.92</td>\n",
       "      <td>23.0</td>\n",
       "      <td>1.049696</td>\n",
       "      <td>2.320244</td>\n",
       "    </tr>\n",
       "    <tr>\n",
       "      <th>V. De Geneve</th>\n",
       "      <td>35.0</td>\n",
       "      <td>1.2</td>\n",
       "      <td>37</td>\n",
       "      <td>53</td>\n",
       "      <td>42.34</td>\n",
       "      <td>18.0</td>\n",
       "      <td>-0.666926</td>\n",
       "      <td>2.570937</td>\n",
       "    </tr>\n",
       "  </tbody>\n",
       "</table>\n",
       "</div>"
      ],
      "text/plain": [
       "              Fertility  Agriculture  Examination  Education  Catholic  \\\n",
       "Neuchatel          64.4         17.6           35         32     16.92   \n",
       "V. De Geneve       35.0          1.2           37         53     42.34   \n",
       "\n",
       "              Infant.Mortality  infant_mortality_zscores  examination_zscores  \n",
       "Neuchatel                 23.0                  1.049696             2.320244  \n",
       "V. De Geneve              18.0                 -0.666926             2.570937  "
      ]
     },
     "execution_count": 41,
     "metadata": {},
     "output_type": "execute_result"
    }
   ],
   "source": [
    "#Let's look to see if anything falls outside of 2 standard deviations\n",
    "#If it does, this could be an anomaly\n",
    "swiss[swiss['examination_zscores'].abs() >= 2]"
   ]
  },
  {
   "cell_type": "code",
   "execution_count": 45,
   "id": "5da03c4f",
   "metadata": {},
   "outputs": [],
   "source": [
    "#IQR\n",
    "inner_multiplier = 1.5\n",
    "q1 = swiss['Examination'].quantile(0.25)\n",
    "q3= swiss['Examination'].quantile(0.75)\n",
    "iqr= q3- q1"
   ]
  },
  {
   "cell_type": "code",
   "execution_count": 46,
   "id": "c1b8324c",
   "metadata": {},
   "outputs": [],
   "source": [
    "inner_lower_fence = q1 - (inner_multiplier * iqr)\n",
    "inner_upper_fence = q3 + (inner_multiplier * iqr)"
   ]
  },
  {
   "cell_type": "code",
   "execution_count": 47,
   "id": "32d998dd",
   "metadata": {},
   "outputs": [
    {
     "data": {
      "text/html": [
       "<div>\n",
       "<style scoped>\n",
       "    .dataframe tbody tr th:only-of-type {\n",
       "        vertical-align: middle;\n",
       "    }\n",
       "\n",
       "    .dataframe tbody tr th {\n",
       "        vertical-align: top;\n",
       "    }\n",
       "\n",
       "    .dataframe thead th {\n",
       "        text-align: right;\n",
       "    }\n",
       "</style>\n",
       "<table border=\"1\" class=\"dataframe\">\n",
       "  <thead>\n",
       "    <tr style=\"text-align: right;\">\n",
       "      <th></th>\n",
       "      <th>Fertility</th>\n",
       "      <th>Agriculture</th>\n",
       "      <th>Examination</th>\n",
       "      <th>Education</th>\n",
       "      <th>Catholic</th>\n",
       "      <th>Infant.Mortality</th>\n",
       "      <th>infant_mortality_zscores</th>\n",
       "      <th>examination_zscores</th>\n",
       "    </tr>\n",
       "  </thead>\n",
       "  <tbody>\n",
       "  </tbody>\n",
       "</table>\n",
       "</div>"
      ],
      "text/plain": [
       "Empty DataFrame\n",
       "Columns: [Fertility, Agriculture, Examination, Education, Catholic, Infant.Mortality, infant_mortality_zscores, examination_zscores]\n",
       "Index: []"
      ]
     },
     "execution_count": 47,
     "metadata": {},
     "output_type": "execute_result"
    }
   ],
   "source": [
    "swiss[(swiss['Examination'] < inner_lower_fence) | (swiss['Examination'] > inner_upper_fence)]"
   ]
  },
  {
   "cell_type": "markdown",
   "id": "88d82d46",
   "metadata": {},
   "source": [
    "<b>Note</b>:\n",
    "- 2 standard deviations contains 95% of the data\n",
    "- We might want to investigate ```examination``` further"
   ]
  },
  {
   "cell_type": "code",
   "execution_count": null,
   "id": "69724542",
   "metadata": {},
   "outputs": [],
   "source": []
  }
 ],
 "metadata": {
  "kernelspec": {
   "display_name": "Python 3 (ipykernel)",
   "language": "python",
   "name": "python3"
  },
  "language_info": {
   "codemirror_mode": {
    "name": "ipython",
    "version": 3
   },
   "file_extension": ".py",
   "mimetype": "text/x-python",
   "name": "python",
   "nbconvert_exporter": "python",
   "pygments_lexer": "ipython3",
   "version": "3.9.12"
  }
 },
 "nbformat": 4,
 "nbformat_minor": 5
}
