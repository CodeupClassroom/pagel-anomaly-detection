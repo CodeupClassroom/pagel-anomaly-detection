{
 "cells": [
  {
   "cell_type": "code",
   "execution_count": 1,
   "id": "e289b59a",
   "metadata": {},
   "outputs": [],
   "source": [
    "import pandas as pd\n",
    "import numpy as np\n",
    "\n",
    "import matplotlib.pyplot as plt"
   ]
  },
  {
   "cell_type": "markdown",
   "id": "d086e04b",
   "metadata": {},
   "source": [
    "#### Define a function named get_lower_and_upper_bounds that has two arguments. The first argument is a pandas Series. The second argument is the multiplier, which should have a default argument of 1.5."
   ]
  },
  {
   "cell_type": "code",
   "execution_count": 2,
   "id": "b73af91e",
   "metadata": {},
   "outputs": [],
   "source": [
    "def get_lower_and_upper_bounds(col, k=1.5):\n",
    "\n",
    "    #calculate our q1 and q3\n",
    "    q1 = col.quantile(0.25)\n",
    "    q3 = col.quantile(0.75)\n",
    "    \n",
    "    iqr = q3-q1    \n",
    "    \n",
    "    #create fence\n",
    "    lower_fence = q1 - (iqr*k) \n",
    "    upper_fence = q3 + (iqr*k) \n",
    "    \n",
    "    return lower_fence, upper_fence"
   ]
  },
  {
   "cell_type": "markdown",
   "id": "f863d4a6",
   "metadata": {},
   "source": [
    "#### Using lemonade.csv dataset and focusing on continuous variables:"
   ]
  },
  {
   "cell_type": "code",
   "execution_count": 3,
   "id": "0094907b",
   "metadata": {},
   "outputs": [],
   "source": [
    "url = 'https://gist.githubusercontent.com/ryanorsinger/\\\n",
    "19bc7eccd6279661bd13307026628ace/raw/e4b5d6787015a4782f96cad6d1d62a8bdbac54c7/lemonade.csv'"
   ]
  },
  {
   "cell_type": "code",
   "execution_count": 4,
   "id": "3302853e",
   "metadata": {},
   "outputs": [],
   "source": [
    "df = pd.read_csv(url)"
   ]
  },
  {
   "cell_type": "code",
   "execution_count": 5,
   "id": "c7d82930",
   "metadata": {},
   "outputs": [
    {
     "data": {
      "text/html": [
       "<div>\n",
       "<style scoped>\n",
       "    .dataframe tbody tr th:only-of-type {\n",
       "        vertical-align: middle;\n",
       "    }\n",
       "\n",
       "    .dataframe tbody tr th {\n",
       "        vertical-align: top;\n",
       "    }\n",
       "\n",
       "    .dataframe thead th {\n",
       "        text-align: right;\n",
       "    }\n",
       "</style>\n",
       "<table border=\"1\" class=\"dataframe\">\n",
       "  <thead>\n",
       "    <tr style=\"text-align: right;\">\n",
       "      <th></th>\n",
       "      <th>Date</th>\n",
       "      <th>Day</th>\n",
       "      <th>Temperature</th>\n",
       "      <th>Rainfall</th>\n",
       "      <th>Flyers</th>\n",
       "      <th>Price</th>\n",
       "      <th>Sales</th>\n",
       "    </tr>\n",
       "  </thead>\n",
       "  <tbody>\n",
       "    <tr>\n",
       "      <th>0</th>\n",
       "      <td>1/1/17</td>\n",
       "      <td>Sunday</td>\n",
       "      <td>27.0</td>\n",
       "      <td>2.00</td>\n",
       "      <td>15</td>\n",
       "      <td>0.5</td>\n",
       "      <td>10</td>\n",
       "    </tr>\n",
       "    <tr>\n",
       "      <th>1</th>\n",
       "      <td>1/2/17</td>\n",
       "      <td>Monday</td>\n",
       "      <td>28.9</td>\n",
       "      <td>1.33</td>\n",
       "      <td>15</td>\n",
       "      <td>0.5</td>\n",
       "      <td>13</td>\n",
       "    </tr>\n",
       "    <tr>\n",
       "      <th>2</th>\n",
       "      <td>1/3/17</td>\n",
       "      <td>Tuesday</td>\n",
       "      <td>34.5</td>\n",
       "      <td>1.33</td>\n",
       "      <td>27</td>\n",
       "      <td>0.5</td>\n",
       "      <td>15</td>\n",
       "    </tr>\n",
       "    <tr>\n",
       "      <th>3</th>\n",
       "      <td>1/4/17</td>\n",
       "      <td>Wednesday</td>\n",
       "      <td>44.1</td>\n",
       "      <td>1.05</td>\n",
       "      <td>28</td>\n",
       "      <td>0.5</td>\n",
       "      <td>17</td>\n",
       "    </tr>\n",
       "    <tr>\n",
       "      <th>4</th>\n",
       "      <td>1/5/17</td>\n",
       "      <td>Thursday</td>\n",
       "      <td>42.4</td>\n",
       "      <td>1.00</td>\n",
       "      <td>33</td>\n",
       "      <td>0.5</td>\n",
       "      <td>18</td>\n",
       "    </tr>\n",
       "  </tbody>\n",
       "</table>\n",
       "</div>"
      ],
      "text/plain": [
       "     Date        Day  Temperature  Rainfall  Flyers  Price  Sales\n",
       "0  1/1/17     Sunday         27.0      2.00      15    0.5     10\n",
       "1  1/2/17     Monday         28.9      1.33      15    0.5     13\n",
       "2  1/3/17    Tuesday         34.5      1.33      27    0.5     15\n",
       "3  1/4/17  Wednesday         44.1      1.05      28    0.5     17\n",
       "4  1/5/17   Thursday         42.4      1.00      33    0.5     18"
      ]
     },
     "execution_count": 5,
     "metadata": {},
     "output_type": "execute_result"
    }
   ],
   "source": [
    "df.head()"
   ]
  },
  {
   "cell_type": "code",
   "execution_count": 6,
   "id": "4f54c823",
   "metadata": {},
   "outputs": [],
   "source": [
    "df.columns = df.columns.str.lower()"
   ]
  },
  {
   "cell_type": "code",
   "execution_count": 7,
   "id": "87b442d9",
   "metadata": {},
   "outputs": [
    {
     "data": {
      "text/html": [
       "<div>\n",
       "<style scoped>\n",
       "    .dataframe tbody tr th:only-of-type {\n",
       "        vertical-align: middle;\n",
       "    }\n",
       "\n",
       "    .dataframe tbody tr th {\n",
       "        vertical-align: top;\n",
       "    }\n",
       "\n",
       "    .dataframe thead th {\n",
       "        text-align: right;\n",
       "    }\n",
       "</style>\n",
       "<table border=\"1\" class=\"dataframe\">\n",
       "  <thead>\n",
       "    <tr style=\"text-align: right;\">\n",
       "      <th></th>\n",
       "      <th>date</th>\n",
       "      <th>day</th>\n",
       "      <th>temperature</th>\n",
       "      <th>rainfall</th>\n",
       "      <th>flyers</th>\n",
       "      <th>price</th>\n",
       "      <th>sales</th>\n",
       "    </tr>\n",
       "  </thead>\n",
       "  <tbody>\n",
       "    <tr>\n",
       "      <th>0</th>\n",
       "      <td>1/1/17</td>\n",
       "      <td>Sunday</td>\n",
       "      <td>27.0</td>\n",
       "      <td>2.00</td>\n",
       "      <td>15</td>\n",
       "      <td>0.5</td>\n",
       "      <td>10</td>\n",
       "    </tr>\n",
       "    <tr>\n",
       "      <th>1</th>\n",
       "      <td>1/2/17</td>\n",
       "      <td>Monday</td>\n",
       "      <td>28.9</td>\n",
       "      <td>1.33</td>\n",
       "      <td>15</td>\n",
       "      <td>0.5</td>\n",
       "      <td>13</td>\n",
       "    </tr>\n",
       "    <tr>\n",
       "      <th>2</th>\n",
       "      <td>1/3/17</td>\n",
       "      <td>Tuesday</td>\n",
       "      <td>34.5</td>\n",
       "      <td>1.33</td>\n",
       "      <td>27</td>\n",
       "      <td>0.5</td>\n",
       "      <td>15</td>\n",
       "    </tr>\n",
       "    <tr>\n",
       "      <th>3</th>\n",
       "      <td>1/4/17</td>\n",
       "      <td>Wednesday</td>\n",
       "      <td>44.1</td>\n",
       "      <td>1.05</td>\n",
       "      <td>28</td>\n",
       "      <td>0.5</td>\n",
       "      <td>17</td>\n",
       "    </tr>\n",
       "    <tr>\n",
       "      <th>4</th>\n",
       "      <td>1/5/17</td>\n",
       "      <td>Thursday</td>\n",
       "      <td>42.4</td>\n",
       "      <td>1.00</td>\n",
       "      <td>33</td>\n",
       "      <td>0.5</td>\n",
       "      <td>18</td>\n",
       "    </tr>\n",
       "  </tbody>\n",
       "</table>\n",
       "</div>"
      ],
      "text/plain": [
       "     date        day  temperature  rainfall  flyers  price  sales\n",
       "0  1/1/17     Sunday         27.0      2.00      15    0.5     10\n",
       "1  1/2/17     Monday         28.9      1.33      15    0.5     13\n",
       "2  1/3/17    Tuesday         34.5      1.33      27    0.5     15\n",
       "3  1/4/17  Wednesday         44.1      1.05      28    0.5     17\n",
       "4  1/5/17   Thursday         42.4      1.00      33    0.5     18"
      ]
     },
     "execution_count": 7,
     "metadata": {},
     "output_type": "execute_result"
    }
   ],
   "source": [
    "df.head()"
   ]
  },
  {
   "cell_type": "code",
   "execution_count": 8,
   "id": "0ff0c8e4",
   "metadata": {},
   "outputs": [],
   "source": [
    "df.date = df.date.astype('datetime64')"
   ]
  },
  {
   "cell_type": "code",
   "execution_count": 9,
   "id": "8fd3d472",
   "metadata": {},
   "outputs": [],
   "source": [
    "df = df.set_index('date')"
   ]
  },
  {
   "cell_type": "code",
   "execution_count": 10,
   "id": "0ccece0a",
   "metadata": {},
   "outputs": [
    {
     "data": {
      "text/html": [
       "<div>\n",
       "<style scoped>\n",
       "    .dataframe tbody tr th:only-of-type {\n",
       "        vertical-align: middle;\n",
       "    }\n",
       "\n",
       "    .dataframe tbody tr th {\n",
       "        vertical-align: top;\n",
       "    }\n",
       "\n",
       "    .dataframe thead th {\n",
       "        text-align: right;\n",
       "    }\n",
       "</style>\n",
       "<table border=\"1\" class=\"dataframe\">\n",
       "  <thead>\n",
       "    <tr style=\"text-align: right;\">\n",
       "      <th></th>\n",
       "      <th>day</th>\n",
       "      <th>temperature</th>\n",
       "      <th>rainfall</th>\n",
       "      <th>flyers</th>\n",
       "      <th>price</th>\n",
       "      <th>sales</th>\n",
       "    </tr>\n",
       "    <tr>\n",
       "      <th>date</th>\n",
       "      <th></th>\n",
       "      <th></th>\n",
       "      <th></th>\n",
       "      <th></th>\n",
       "      <th></th>\n",
       "      <th></th>\n",
       "    </tr>\n",
       "  </thead>\n",
       "  <tbody>\n",
       "    <tr>\n",
       "      <th>2017-01-01</th>\n",
       "      <td>Sunday</td>\n",
       "      <td>27.0</td>\n",
       "      <td>2.00</td>\n",
       "      <td>15</td>\n",
       "      <td>0.5</td>\n",
       "      <td>10</td>\n",
       "    </tr>\n",
       "    <tr>\n",
       "      <th>2017-01-02</th>\n",
       "      <td>Monday</td>\n",
       "      <td>28.9</td>\n",
       "      <td>1.33</td>\n",
       "      <td>15</td>\n",
       "      <td>0.5</td>\n",
       "      <td>13</td>\n",
       "    </tr>\n",
       "    <tr>\n",
       "      <th>2017-01-03</th>\n",
       "      <td>Tuesday</td>\n",
       "      <td>34.5</td>\n",
       "      <td>1.33</td>\n",
       "      <td>27</td>\n",
       "      <td>0.5</td>\n",
       "      <td>15</td>\n",
       "    </tr>\n",
       "    <tr>\n",
       "      <th>2017-01-04</th>\n",
       "      <td>Wednesday</td>\n",
       "      <td>44.1</td>\n",
       "      <td>1.05</td>\n",
       "      <td>28</td>\n",
       "      <td>0.5</td>\n",
       "      <td>17</td>\n",
       "    </tr>\n",
       "    <tr>\n",
       "      <th>2017-01-05</th>\n",
       "      <td>Thursday</td>\n",
       "      <td>42.4</td>\n",
       "      <td>1.00</td>\n",
       "      <td>33</td>\n",
       "      <td>0.5</td>\n",
       "      <td>18</td>\n",
       "    </tr>\n",
       "  </tbody>\n",
       "</table>\n",
       "</div>"
      ],
      "text/plain": [
       "                  day  temperature  rainfall  flyers  price  sales\n",
       "date                                                              \n",
       "2017-01-01     Sunday         27.0      2.00      15    0.5     10\n",
       "2017-01-02     Monday         28.9      1.33      15    0.5     13\n",
       "2017-01-03    Tuesday         34.5      1.33      27    0.5     15\n",
       "2017-01-04  Wednesday         44.1      1.05      28    0.5     17\n",
       "2017-01-05   Thursday         42.4      1.00      33    0.5     18"
      ]
     },
     "execution_count": 10,
     "metadata": {},
     "output_type": "execute_result"
    }
   ],
   "source": [
    "df.head()"
   ]
  },
  {
   "cell_type": "code",
   "execution_count": 11,
   "id": "b2f83659",
   "metadata": {},
   "outputs": [
    {
     "name": "stdout",
     "output_type": "stream",
     "text": [
      "<class 'pandas.core.frame.DataFrame'>\n",
      "DatetimeIndex: 365 entries, 2017-01-01 to 2017-12-31\n",
      "Data columns (total 6 columns):\n",
      " #   Column       Non-Null Count  Dtype  \n",
      "---  ------       --------------  -----  \n",
      " 0   day          365 non-null    object \n",
      " 1   temperature  365 non-null    float64\n",
      " 2   rainfall     365 non-null    float64\n",
      " 3   flyers       365 non-null    int64  \n",
      " 4   price        365 non-null    float64\n",
      " 5   sales        365 non-null    int64  \n",
      "dtypes: float64(3), int64(2), object(1)\n",
      "memory usage: 20.0+ KB\n"
     ]
    }
   ],
   "source": [
    "df.info()"
   ]
  },
  {
   "cell_type": "markdown",
   "id": "64479466",
   "metadata": {},
   "source": [
    "#### Use the IQR Range Rule and the upper and lower bounds to identify the lower outliers of each column of lemonade.csv, using the multiplier of 1.5. Do these lower outliers make sense? Which outliers should be kept?"
   ]
  },
  {
   "cell_type": "code",
   "execution_count": 12,
   "id": "bb4dc3e3",
   "metadata": {},
   "outputs": [
    {
     "name": "stdout",
     "output_type": "stream",
     "text": [
      "temperature\n",
      "| date                |   temperature |\n",
      "|:--------------------|--------------:|\n",
      "| 2017-12-31 00:00:00 |          15.1 |\n",
      "\n",
      "rainfall\n",
      "| date   | rainfall   |\n",
      "|--------|------------|\n",
      "\n",
      "flyers\n",
      "| date                |   flyers |\n",
      "|:--------------------|---------:|\n",
      "| 2017-11-21 00:00:00 |      -38 |\n",
      "\n",
      "price\n",
      "| date   | price   |\n",
      "|--------|---------|\n",
      "\n",
      "sales\n",
      "| date   | sales   |\n",
      "|--------|---------|\n",
      "\n"
     ]
    }
   ],
   "source": [
    "for col in df.columns[1:]:\n",
    "    print(col)\n",
    "    \n",
    "    lower_fence, upper_fence = get_lower_and_upper_bounds( df[col] )\n",
    "#     print(lower_fence, upper_fence)\n",
    "    \n",
    "    print(df[col] [(df[col] < lower_fence)].to_markdown())\n",
    "    print()"
   ]
  },
  {
   "cell_type": "code",
   "execution_count": 13,
   "id": "7361c955",
   "metadata": {},
   "outputs": [
    {
     "data": {
      "text/html": [
       "<div>\n",
       "<style scoped>\n",
       "    .dataframe tbody tr th:only-of-type {\n",
       "        vertical-align: middle;\n",
       "    }\n",
       "\n",
       "    .dataframe tbody tr th {\n",
       "        vertical-align: top;\n",
       "    }\n",
       "\n",
       "    .dataframe thead th {\n",
       "        text-align: right;\n",
       "    }\n",
       "</style>\n",
       "<table border=\"1\" class=\"dataframe\">\n",
       "  <thead>\n",
       "    <tr style=\"text-align: right;\">\n",
       "      <th></th>\n",
       "      <th>day</th>\n",
       "      <th>temperature</th>\n",
       "      <th>rainfall</th>\n",
       "      <th>flyers</th>\n",
       "      <th>price</th>\n",
       "      <th>sales</th>\n",
       "    </tr>\n",
       "    <tr>\n",
       "      <th>date</th>\n",
       "      <th></th>\n",
       "      <th></th>\n",
       "      <th></th>\n",
       "      <th></th>\n",
       "      <th></th>\n",
       "      <th></th>\n",
       "    </tr>\n",
       "  </thead>\n",
       "  <tbody>\n",
       "    <tr>\n",
       "      <th>2017-12-27</th>\n",
       "      <td>Wednesday</td>\n",
       "      <td>42.7</td>\n",
       "      <td>1.00</td>\n",
       "      <td>33</td>\n",
       "      <td>0.5</td>\n",
       "      <td>19</td>\n",
       "    </tr>\n",
       "    <tr>\n",
       "      <th>2017-12-28</th>\n",
       "      <td>Thursday</td>\n",
       "      <td>37.8</td>\n",
       "      <td>1.25</td>\n",
       "      <td>32</td>\n",
       "      <td>0.5</td>\n",
       "      <td>16</td>\n",
       "    </tr>\n",
       "    <tr>\n",
       "      <th>2017-12-29</th>\n",
       "      <td>Friday</td>\n",
       "      <td>39.5</td>\n",
       "      <td>1.25</td>\n",
       "      <td>17</td>\n",
       "      <td>0.5</td>\n",
       "      <td>15</td>\n",
       "    </tr>\n",
       "    <tr>\n",
       "      <th>2017-12-30</th>\n",
       "      <td>Saturday</td>\n",
       "      <td>30.9</td>\n",
       "      <td>1.43</td>\n",
       "      <td>22</td>\n",
       "      <td>0.5</td>\n",
       "      <td>13</td>\n",
       "    </tr>\n",
       "    <tr>\n",
       "      <th>2017-12-31</th>\n",
       "      <td>Sunday</td>\n",
       "      <td>15.1</td>\n",
       "      <td>2.50</td>\n",
       "      <td>9</td>\n",
       "      <td>0.5</td>\n",
       "      <td>7</td>\n",
       "    </tr>\n",
       "  </tbody>\n",
       "</table>\n",
       "</div>"
      ],
      "text/plain": [
       "                  day  temperature  rainfall  flyers  price  sales\n",
       "date                                                              \n",
       "2017-12-27  Wednesday         42.7      1.00      33    0.5     19\n",
       "2017-12-28   Thursday         37.8      1.25      32    0.5     16\n",
       "2017-12-29     Friday         39.5      1.25      17    0.5     15\n",
       "2017-12-30   Saturday         30.9      1.43      22    0.5     13\n",
       "2017-12-31     Sunday         15.1      2.50       9    0.5      7"
      ]
     },
     "execution_count": 13,
     "metadata": {},
     "output_type": "execute_result"
    }
   ],
   "source": [
    "df.loc['2017-12'].tail()"
   ]
  },
  {
   "cell_type": "markdown",
   "id": "b3a455e3",
   "metadata": {},
   "source": [
    "#### Use the IQR Range Rule and the upper and upper bounds to identify the upper outliers of each column of lemonade.csv, using the multiplier of 1.5. Do these upper outliers make sense? Which outliers should be kept?"
   ]
  },
  {
   "cell_type": "code",
   "execution_count": 14,
   "id": "1be3dec4",
   "metadata": {},
   "outputs": [
    {
     "name": "stdout",
     "output_type": "stream",
     "text": [
      "temperature\n",
      "| date                |   temperature |\n",
      "|:--------------------|--------------:|\n",
      "| 2017-02-11 00:00:00 |           212 |\n",
      "\n",
      "rainfall\n",
      "| date                |   rainfall |\n",
      "|:--------------------|-----------:|\n",
      "| 2017-01-01 00:00:00 |       2    |\n",
      "| 2017-01-02 00:00:00 |       1.33 |\n",
      "| 2017-01-03 00:00:00 |       1.33 |\n",
      "| 2017-01-06 00:00:00 |       1.54 |\n",
      "| 2017-01-07 00:00:00 |       1.54 |\n",
      "| 2017-01-11 00:00:00 |       1.54 |\n",
      "| 2017-01-12 00:00:00 |       1.33 |\n",
      "| 2017-01-13 00:00:00 |       1.33 |\n",
      "| 2017-01-16 00:00:00 |       1.67 |\n",
      "| 2017-01-17 00:00:00 |       1.43 |\n",
      "| 2017-01-20 00:00:00 |       1.43 |\n",
      "| 2017-01-24 00:00:00 |       1.54 |\n",
      "| 2017-01-28 00:00:00 |       1.33 |\n",
      "| 2017-01-29 00:00:00 |       1.33 |\n",
      "| 2017-12-04 00:00:00 |       1.54 |\n",
      "| 2017-12-05 00:00:00 |       1.82 |\n",
      "| 2017-12-09 00:00:00 |       1.43 |\n",
      "| 2017-12-10 00:00:00 |       1.82 |\n",
      "| 2017-12-12 00:00:00 |       1.33 |\n",
      "| 2017-12-13 00:00:00 |       1.43 |\n",
      "| 2017-12-14 00:00:00 |       1.54 |\n",
      "| 2017-12-17 00:00:00 |       1.33 |\n",
      "| 2017-12-18 00:00:00 |       1.43 |\n",
      "| 2017-12-21 00:00:00 |       1.33 |\n",
      "| 2017-12-22 00:00:00 |       1.54 |\n",
      "| 2017-12-26 00:00:00 |       1.43 |\n",
      "| 2017-12-30 00:00:00 |       1.43 |\n",
      "| 2017-12-31 00:00:00 |       2.5  |\n",
      "\n",
      "flyers\n",
      "| date                |   flyers |\n",
      "|:--------------------|---------:|\n",
      "| 2017-06-16 00:00:00 |       77 |\n",
      "| 2017-07-14 00:00:00 |       80 |\n",
      "\n",
      "price\n",
      "| date   | price   |\n",
      "|--------|---------|\n",
      "\n",
      "sales\n",
      "| date                |   sales |\n",
      "|:--------------------|--------:|\n",
      "| 2017-07-01 00:00:00 |     143 |\n",
      "| 2017-07-02 00:00:00 |     158 |\n",
      "| 2017-07-03 00:00:00 |     235 |\n",
      "| 2017-07-04 00:00:00 |     534 |\n",
      "\n"
     ]
    }
   ],
   "source": [
    "for col in df.columns[1:]:\n",
    "    print(col)\n",
    "    \n",
    "    lower_fence, upper_fence = get_lower_and_upper_bounds(df[col])\n",
    "#     print(lower_fence, upper_fence)\n",
    "    \n",
    "    print(df[col] [(df[col] > upper_fence)].to_markdown())\n",
    "    print()"
   ]
  },
  {
   "cell_type": "code",
   "execution_count": 15,
   "id": "609e938f",
   "metadata": {},
   "outputs": [],
   "source": [
    "# df.boxplot()"
   ]
  },
  {
   "cell_type": "markdown",
   "id": "b78671c1",
   "metadata": {},
   "source": [
    "#### Using the multiplier of 3, IQR Range Rule, and the lower bounds, identify the outliers below the lower bound in each colum of lemonade.csv. Do these lower outliers make sense? Which outliers should be kept?"
   ]
  },
  {
   "cell_type": "code",
   "execution_count": 16,
   "id": "1407f2dc",
   "metadata": {},
   "outputs": [
    {
     "name": "stdout",
     "output_type": "stream",
     "text": [
      "temperature\n",
      "| date   | temperature   |\n",
      "|--------|---------------|\n",
      "\n",
      "rainfall\n",
      "| date   | rainfall   |\n",
      "|--------|------------|\n",
      "\n",
      "flyers\n",
      "| date                |   flyers |\n",
      "|:--------------------|---------:|\n",
      "| 2017-11-21 00:00:00 |      -38 |\n",
      "\n",
      "price\n",
      "| date   | price   |\n",
      "|--------|---------|\n",
      "\n",
      "sales\n",
      "| date   | sales   |\n",
      "|--------|---------|\n",
      "\n"
     ]
    }
   ],
   "source": [
    "for col in df.columns[1:]:\n",
    "    print(col)\n",
    "    \n",
    "    lower_fence, upper_fence = get_lower_and_upper_bounds(df[col], 3)\n",
    "#     print(lower_fence, upper_fence)\n",
    "    \n",
    "    print(df[col] [(df[col] < lower_fence)].to_markdown())\n",
    "    print()"
   ]
  },
  {
   "cell_type": "markdown",
   "id": "d58435ba",
   "metadata": {},
   "source": [
    "#### Using the multiplier of 3, IQR Range Rule, and the upper bounds, identify the outliers above the upper_bound in each colum of lemonade.csv. Do these upper outliers make sense? Which outliers should be kept?"
   ]
  },
  {
   "cell_type": "code",
   "execution_count": 17,
   "id": "7fb6dfe9",
   "metadata": {},
   "outputs": [
    {
     "name": "stdout",
     "output_type": "stream",
     "text": [
      "temperature\n",
      "| date                |   temperature |\n",
      "|:--------------------|--------------:|\n",
      "| 2017-02-11 00:00:00 |           212 |\n",
      "\n",
      "rainfall\n",
      "| date                |   rainfall |\n",
      "|:--------------------|-----------:|\n",
      "| 2017-01-01 00:00:00 |       2    |\n",
      "| 2017-12-05 00:00:00 |       1.82 |\n",
      "| 2017-12-10 00:00:00 |       1.82 |\n",
      "| 2017-12-31 00:00:00 |       2.5  |\n",
      "\n",
      "flyers\n",
      "| date   | flyers   |\n",
      "|--------|----------|\n",
      "\n",
      "price\n",
      "| date   | price   |\n",
      "|--------|---------|\n",
      "\n",
      "sales\n",
      "| date                |   sales |\n",
      "|:--------------------|--------:|\n",
      "| 2017-07-01 00:00:00 |     143 |\n",
      "| 2017-07-02 00:00:00 |     158 |\n",
      "| 2017-07-03 00:00:00 |     235 |\n",
      "| 2017-07-04 00:00:00 |     534 |\n",
      "\n"
     ]
    }
   ],
   "source": [
    "for col in df.columns[1:]:\n",
    "    print(col)\n",
    "    \n",
    "    lower_fence, upper_fence = get_lower_and_upper_bounds(df[col], 3)\n",
    "#     print(lower_fence, upper_fence)\n",
    "    \n",
    "    print(df[col] [(df[col] > upper_fence)].to_markdown())\n",
    "    print()"
   ]
  },
  {
   "cell_type": "markdown",
   "id": "ec654a79",
   "metadata": {},
   "source": [
    "#### Identify if any columns in lemonade.csv are normally distributed. For normally distributed columns:"
   ]
  },
  {
   "cell_type": "code",
   "execution_count": 18,
   "id": "9dcfc604",
   "metadata": {},
   "outputs": [
    {
     "data": {
      "text/html": [
       "<div>\n",
       "<style scoped>\n",
       "    .dataframe tbody tr th:only-of-type {\n",
       "        vertical-align: middle;\n",
       "    }\n",
       "\n",
       "    .dataframe tbody tr th {\n",
       "        vertical-align: top;\n",
       "    }\n",
       "\n",
       "    .dataframe thead th {\n",
       "        text-align: right;\n",
       "    }\n",
       "</style>\n",
       "<table border=\"1\" class=\"dataframe\">\n",
       "  <thead>\n",
       "    <tr style=\"text-align: right;\">\n",
       "      <th></th>\n",
       "      <th>day</th>\n",
       "      <th>temperature</th>\n",
       "      <th>rainfall</th>\n",
       "      <th>flyers</th>\n",
       "      <th>price</th>\n",
       "      <th>sales</th>\n",
       "    </tr>\n",
       "    <tr>\n",
       "      <th>date</th>\n",
       "      <th></th>\n",
       "      <th></th>\n",
       "      <th></th>\n",
       "      <th></th>\n",
       "      <th></th>\n",
       "      <th></th>\n",
       "    </tr>\n",
       "  </thead>\n",
       "  <tbody>\n",
       "    <tr>\n",
       "      <th>2017-01-01</th>\n",
       "      <td>Sunday</td>\n",
       "      <td>27.0</td>\n",
       "      <td>2.00</td>\n",
       "      <td>15</td>\n",
       "      <td>0.5</td>\n",
       "      <td>10</td>\n",
       "    </tr>\n",
       "    <tr>\n",
       "      <th>2017-01-02</th>\n",
       "      <td>Monday</td>\n",
       "      <td>28.9</td>\n",
       "      <td>1.33</td>\n",
       "      <td>15</td>\n",
       "      <td>0.5</td>\n",
       "      <td>13</td>\n",
       "    </tr>\n",
       "    <tr>\n",
       "      <th>2017-01-03</th>\n",
       "      <td>Tuesday</td>\n",
       "      <td>34.5</td>\n",
       "      <td>1.33</td>\n",
       "      <td>27</td>\n",
       "      <td>0.5</td>\n",
       "      <td>15</td>\n",
       "    </tr>\n",
       "    <tr>\n",
       "      <th>2017-01-04</th>\n",
       "      <td>Wednesday</td>\n",
       "      <td>44.1</td>\n",
       "      <td>1.05</td>\n",
       "      <td>28</td>\n",
       "      <td>0.5</td>\n",
       "      <td>17</td>\n",
       "    </tr>\n",
       "    <tr>\n",
       "      <th>2017-01-05</th>\n",
       "      <td>Thursday</td>\n",
       "      <td>42.4</td>\n",
       "      <td>1.00</td>\n",
       "      <td>33</td>\n",
       "      <td>0.5</td>\n",
       "      <td>18</td>\n",
       "    </tr>\n",
       "  </tbody>\n",
       "</table>\n",
       "</div>"
      ],
      "text/plain": [
       "                  day  temperature  rainfall  flyers  price  sales\n",
       "date                                                              \n",
       "2017-01-01     Sunday         27.0      2.00      15    0.5     10\n",
       "2017-01-02     Monday         28.9      1.33      15    0.5     13\n",
       "2017-01-03    Tuesday         34.5      1.33      27    0.5     15\n",
       "2017-01-04  Wednesday         44.1      1.05      28    0.5     17\n",
       "2017-01-05   Thursday         42.4      1.00      33    0.5     18"
      ]
     },
     "execution_count": 18,
     "metadata": {},
     "output_type": "execute_result"
    }
   ],
   "source": [
    "df.head()"
   ]
  },
  {
   "cell_type": "code",
   "execution_count": 23,
   "id": "b9cd4bd5",
   "metadata": {
    "scrolled": false
   },
   "outputs": [
    {
     "data": {
      "image/png": "[encoded data removed]",
      "text/plain": [
       "<Figure size 640x480 with 1 Axes>"
      ]
     },
     "metadata": {},
     "output_type": "display_data"
    },
    {
     "data": {
      "image/png": "[encoded data removed]",
      "text/plain": [
       "<Figure size 640x480 with 1 Axes>"
      ]
     },
     "metadata": {},
     "output_type": "display_data"
    },
    {
     "data": {
      "image/png": "[encoded data removed]",
      "text/plain": [
       "<Figure size 640x480 with 1 Axes>"
      ]
     },
     "metadata": {},
     "output_type": "display_data"
    },
    {
     "data": {
      "image/png": "[encoded data removed]",
      "text/plain": [
       "<Figure size 640x480 with 1 Axes>"
      ]
     },
     "metadata": {},
     "output_type": "display_data"
    },
    {
     "data": {
      "image/png": "[encoded data removed]",
      "text/plain": [
       "<Figure size 640x480 with 1 Axes>"
      ]
     },
     "metadata": {},
     "output_type": "display_data"
    },
    {
     "data": {
      "image/png": "[encoded data removed]",
      "text/plain": [
       "<Figure size 640x480 with 1 Axes>"
      ]
     },
     "metadata": {},
     "output_type": "display_data"
    }
   ],
   "source": [
    "for col in df.columns:\n",
    "#     print(col)\n",
    "    df[col].hist(bins=20)\n",
    "    plt.title(col)\n",
    "    plt.show()"
   ]
  },
  {
   "cell_type": "markdown",
   "id": "00282727",
   "metadata": {},
   "source": [
    "#### Use a 2 sigma decision rule to isolate the outliers."
   ]
  },
  {
   "cell_type": "code",
   "execution_count": 24,
   "id": "de0c934b",
   "metadata": {},
   "outputs": [
    {
     "data": {
      "text/plain": [
       "Index(['day', 'temperature', 'rainfall', 'flyers', 'price', 'sales'], dtype='object')"
      ]
     },
     "execution_count": 24,
     "metadata": {},
     "output_type": "execute_result"
    }
   ],
   "source": [
    "df.columns"
   ]
  },
  {
   "cell_type": "code",
   "execution_count": 26,
   "id": "a4036359",
   "metadata": {},
   "outputs": [
    {
     "data": {
      "text/plain": [
       "['temperature', 'rainfall', 'flyers']"
      ]
     },
     "execution_count": 26,
     "metadata": {},
     "output_type": "execute_result"
    }
   ],
   "source": [
    "normals = ['temperature', 'rainfall', 'flyers']\n",
    "normals"
   ]
  },
  {
   "cell_type": "code",
   "execution_count": 27,
   "id": "25f1827a",
   "metadata": {},
   "outputs": [
    {
     "name": "stdout",
     "output_type": "stream",
     "text": [
      "| date                |   temperature |\n",
      "|:--------------------|--------------:|\n",
      "| 2017-02-11 00:00:00 |         212   |\n",
      "| 2017-06-16 00:00:00 |          99.3 |\n",
      "| 2017-06-26 00:00:00 |         102.6 |\n",
      "| 2017-07-01 00:00:00 |         102.9 |\n",
      "| 2017-07-10 00:00:00 |          98   |\n",
      "| 2017-07-18 00:00:00 |          99.3 |\n",
      "| 2017-07-22 00:00:00 |          99.6 |\n",
      "| 2017-07-27 00:00:00 |          97.9 |\n",
      "| 2017-12-05 00:00:00 |          22   |\n",
      "| 2017-12-31 00:00:00 |          15.1 |\n",
      "\n",
      "| date                |   rainfall |\n",
      "|:--------------------|-----------:|\n",
      "| 2017-01-01 00:00:00 |       2    |\n",
      "| 2017-01-06 00:00:00 |       1.54 |\n",
      "| 2017-01-07 00:00:00 |       1.54 |\n",
      "| 2017-01-11 00:00:00 |       1.54 |\n",
      "| 2017-01-16 00:00:00 |       1.67 |\n",
      "| 2017-01-17 00:00:00 |       1.43 |\n",
      "| 2017-01-20 00:00:00 |       1.43 |\n",
      "| 2017-01-24 00:00:00 |       1.54 |\n",
      "| 2017-12-04 00:00:00 |       1.54 |\n",
      "| 2017-12-05 00:00:00 |       1.82 |\n",
      "| 2017-12-09 00:00:00 |       1.43 |\n",
      "| 2017-12-10 00:00:00 |       1.82 |\n",
      "| 2017-12-13 00:00:00 |       1.43 |\n",
      "| 2017-12-14 00:00:00 |       1.54 |\n",
      "| 2017-12-18 00:00:00 |       1.43 |\n",
      "| 2017-12-22 00:00:00 |       1.54 |\n",
      "| 2017-12-26 00:00:00 |       1.43 |\n",
      "| 2017-12-30 00:00:00 |       1.43 |\n",
      "| 2017-12-31 00:00:00 |       2.5  |\n",
      "\n",
      "| date                |   flyers |\n",
      "|:--------------------|---------:|\n",
      "| 2017-06-16 00:00:00 |       77 |\n",
      "| 2017-06-20 00:00:00 |       70 |\n",
      "| 2017-06-21 00:00:00 |       76 |\n",
      "| 2017-07-02 00:00:00 |       68 |\n",
      "| 2017-07-03 00:00:00 |       68 |\n",
      "| 2017-07-14 00:00:00 |       80 |\n",
      "| 2017-07-18 00:00:00 |       76 |\n",
      "| 2017-07-23 00:00:00 |       72 |\n",
      "| 2017-07-24 00:00:00 |       69 |\n",
      "| 2017-07-27 00:00:00 |       74 |\n",
      "| 2017-11-21 00:00:00 |      -38 |\n",
      "| 2017-12-05 00:00:00 |       11 |\n",
      "| 2017-12-31 00:00:00 |        9 |\n",
      "\n"
     ]
    }
   ],
   "source": [
    "for col in normals: \n",
    "    # Calculate the z-score \n",
    "    zscores = pd.Series((df[col] - df[col].mean()) / df[col].std())\n",
    "\n",
    "    # Finds all of the observations two standard deviations or more.\n",
    "    print(df[col][zscores.abs() >= 2].to_markdown())\n",
    "    print()"
   ]
  },
  {
   "cell_type": "markdown",
   "id": "16032410",
   "metadata": {},
   "source": [
    "#### Do these make sense?"
   ]
  },
  {
   "cell_type": "markdown",
   "id": "b345fbc3",
   "metadata": {},
   "source": [
    "#### Should certain outliers be kept or removed?"
   ]
  },
  {
   "cell_type": "markdown",
   "id": "afd2d72f",
   "metadata": {},
   "source": [
    "#### Now use a 3 sigma decision rule to isolate the outliers in the normally distributed columns from lemonade.csv"
   ]
  },
  {
   "cell_type": "code",
   "execution_count": 28,
   "id": "68e31887",
   "metadata": {},
   "outputs": [
    {
     "name": "stdout",
     "output_type": "stream",
     "text": [
      "| date                |   temperature |\n",
      "|:--------------------|--------------:|\n",
      "| 2017-02-11 00:00:00 |           212 |\n",
      "\n",
      "| date                |   rainfall |\n",
      "|:--------------------|-----------:|\n",
      "| 2017-01-01 00:00:00 |       2    |\n",
      "| 2017-01-16 00:00:00 |       1.67 |\n",
      "| 2017-12-05 00:00:00 |       1.82 |\n",
      "| 2017-12-10 00:00:00 |       1.82 |\n",
      "| 2017-12-31 00:00:00 |       2.5  |\n",
      "\n",
      "| date                |   flyers |\n",
      "|:--------------------|---------:|\n",
      "| 2017-11-21 00:00:00 |      -38 |\n",
      "\n"
     ]
    }
   ],
   "source": [
    "for col in normals: \n",
    "    # Calculate the z-score \n",
    "    zscores = pd.Series((df[col] - df[col].mean()) / df[col].std())\n",
    "\n",
    "    # Finds all of the observations two standard deviations or more.\n",
    "    print(df[col][zscores.abs() >= 3].to_markdown())\n",
    "    print()"
   ]
  },
  {
   "cell_type": "code",
   "execution_count": null,
   "id": "fb5ce24a",
   "metadata": {},
   "outputs": [],
   "source": []
  },
  {
   "cell_type": "code",
   "execution_count": null,
   "id": "82dfc155",
   "metadata": {},
   "outputs": [],
   "source": []
  }
 ],
 "metadata": {
  "kernelspec": {
   "display_name": "Python 3 (ipykernel)",
   "language": "python",
   "name": "python3"
  },
  "language_info": {
   "codemirror_mode": {
    "name": "ipython",
    "version": 3
   },
   "file_extension": ".py",
   "mimetype": "text/x-python",
   "name": "python",
   "nbconvert_exporter": "python",
   "pygments_lexer": "ipython3",
   "version": "3.9.12"
  }
 },
 "nbformat": 4,
 "nbformat_minor": 5
}
